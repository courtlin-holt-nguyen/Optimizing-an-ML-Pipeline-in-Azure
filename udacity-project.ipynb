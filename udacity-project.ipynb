{
  "cells": [
    {
      "cell_type": "code",
      "source": [
        "from azureml.core import Workspace, Experiment\n",
        "\n",
        "ws = Workspace.get(name=\"courtlin-udacity\",subscription_id=\"bd6c48f0-b2f5-4fd8-b4de-3351b13cbee8\", resource_group=\"udacity-nano\")\n",
        "exp = Experiment(workspace=ws, name=\"courtlin-udacity\")\n",
        "\n",
        "print('Workspace name: ' + ws.name, \n",
        "      'Azure region: ' + ws.location, \n",
        "      'Subscription id: ' + ws.subscription_id, \n",
        "      'Resource group: ' + ws.resource_group, sep = '\\n')\n",
        "\n",
        "run = exp.start_logging()"
      ],
      "outputs": [],
      "execution_count": null,
      "metadata": {
        "gather": {
          "logged": 1627173217192
        }
      }
    },
    {
      "cell_type": "code",
      "source": [
        "from azureml.core.compute import ComputeTarget, AmlCompute\n",
        "\n",
        "# TODO: Create compute cluster\n",
        "# Use vm_size = \"Standard_D2_V2\" in your provisioning configuration.\n",
        "# max_nodes should be no greater than 4.\n",
        "\n",
        "from azureml.core.compute import ComputeTarget, AmlCompute\n",
        "cpu_cluster_name = \"udacityproj1\"\n",
        "compute_config = AmlCompute.provisioning_configuration(vm_size=\"Standard_D2_V2\", max_nodes=5, vm_priority='lowpriority',min_nodes=0, idle_seconds_before_scaledown=300)\n",
        "cpu_cluster = ComputeTarget.create(ws, cpu_cluster_name, compute_config)\n",
        "cpu_cluster.wait_for_completion(show_output=True)"
      ],
      "outputs": [],
      "execution_count": null,
      "metadata": {
        "gather": {
          "logged": 1627173218225
        },
        "jupyter": {
          "outputs_hidden": false,
          "source_hidden": false
        },
        "nteract": {
          "transient": {
            "deleting": false
          }
        }
      }
    },
    {
      "cell_type": "code",
      "source": [
        "from azureml.widgets import RunDetails\n",
        "from azureml.train.sklearn import SKLearn\n",
        "from azureml.train.hyperdrive.run import PrimaryMetricGoal\n",
        "from azureml.train.hyperdrive.policy import BanditPolicy\n",
        "from azureml.train.hyperdrive.sampling import RandomParameterSampling\n",
        "from azureml.train.hyperdrive.runconfig import HyperDriveConfig\n",
        "from azureml.train.hyperdrive.parameter_expressions import uniform\n",
        "import os\n",
        "\n",
        "# Specify parameter sampler\n",
        "# ps = ### YOUR CODE HERE ###\n",
        "from azureml.train.hyperdrive import RandomParameterSampling\n",
        "from azureml.train.hyperdrive import normal, uniform, choice\n",
        "\n",
        "# ps = RandomParameterSampling( {\n",
        "#         \"learning_rate\": normal(10, 3),\n",
        "#         \"keep_probability\": uniform(0.05, 0.1),\n",
        "#         \"batch_size\": choice(16, 32, 64, 128)\n",
        "#     }\n",
        "# )\n",
        "\n",
        "\n",
        "ps = RandomParameterSampling(\n",
        "    {\n",
        "        \"--C\": choice(0.1,1.0,10.0),\n",
        "        \"--max_iter\": choice(5,10,20)\n",
        "    }\n",
        ")\n",
        "\n",
        "\n",
        "# Specify an Early Termination Policy\n",
        "# policy = ### YOUR CODE HERE ###\n",
        "early_termination_policy = BanditPolicy(slack_factor = 0.1, evaluation_interval=1, delay_evaluation=5)\n",
        "\n",
        "\n",
        "if \"training\" not in os.listdir():\n",
        "    os.mkdir(\"./training\")\n",
        "\n",
        "# Create a SKLearn estimator for use with train.py\n",
        "# est = ### YOUR CODE HERE ###\n",
        "\n",
        "\n",
        "from azureml.core import ScriptRunConfig\n",
        "\n",
        "# import os\n",
        "# est = SKLearn(source_directory=os.path.join('./'),\n",
        "#                       entry_script='train.py',\n",
        "#                       compute_target=cpu_cluster,\n",
        "#              )\n",
        "\n",
        "compute_target = ws.compute_targets['udacityproj1']\n",
        "\n",
        "# from azureml.core import Environment\n",
        "# sklearn_env = Environment.get(workspace=ws, name='AzureML-Tutorial')\n",
        "\n",
        "# src = ScriptRunConfig(source_directory=os.path.join('./'),\n",
        "#                       script='train.py',\n",
        "#                       arguments=['--kernel', 'linear', '--penalty', 1.0],\n",
        "#                       compute_target=compute_target,\n",
        "#                       environment=sklearn_env)\n",
        "\n",
        "# est = SKLearn(source_directory=os.path.join('./'),\n",
        "#                       entry_script='train.py',\n",
        "#                       compute_target=cpu_cluster,\n",
        "#              )\n",
        "\n",
        "# Create a SKLearn estimator for use with train.py\n",
        "# est = SKLearn(\n",
        "#     source_directory=\".\",\n",
        "#     compute_target=compute_target,\n",
        "#     entry_script=\"train.py\"\n",
        "# )\n",
        "\n",
        "\n",
        "# Create a SKLearn estimator for use with train.py\n",
        "est = SKLearn(\n",
        "    source_directory=os.path.join('./'),\n",
        "    compute_target=compute_target,\n",
        "    entry_script=\"train.py\"\n",
        ")\n",
        "\n",
        "\n",
        "# Create a HyperDriveConfig using the estimator, hyperparameter sampler, and policy.\n",
        "# hyperdrive_config = ### YOUR CODE HERE ###\n",
        "hyperdrive_config = HyperDriveConfig(\n",
        "                             estimator=est,\n",
        "                             hyperparameter_sampling=ps,\n",
        "                             policy=early_termination_policy,\n",
        "                             primary_metric_name=\"accuracy\",\n",
        "                             primary_metric_goal=PrimaryMetricGoal.MAXIMIZE,\n",
        "                             max_total_runs=20,\n",
        "                             max_concurrent_runs=10)"
      ],
      "outputs": [],
      "execution_count": null,
      "metadata": {
        "gather": {
          "logged": 1627173222127
        },
        "jupyter": {
          "outputs_hidden": false,
          "source_hidden": false
        },
        "nteract": {
          "transient": {
            "deleting": false
          }
        }
      }
    },
    {
      "cell_type": "code",
      "source": [
        "# Submit your hyperdrive run to the experiment and show run details with the widget.\n",
        "\n",
        "### YOUR CODE HERE ###\n",
        "\n",
        "from azureml.core.experiment import Experiment\n",
        "experiment = Experiment(ws, \"courtlin-udacity\")\n",
        "hyperdrive_run = experiment.submit(hyperdrive_config, show_output=True)\n",
        "RunDetails(hyperdrive_run).show()\n",
        "\n"
      ],
      "outputs": [],
      "execution_count": null,
      "metadata": {
        "gather": {
          "logged": 1627173223115
        }
      }
    },
    {
      "cell_type": "code",
      "source": [
        "# from azureml.widgets import RunDetails\r\n",
        "# RunDetails(hyperdrive_run).show()"
      ],
      "outputs": [],
      "execution_count": null,
      "metadata": {
        "collapsed": true,
        "jupyter": {
          "source_hidden": false,
          "outputs_hidden": false
        },
        "nteract": {
          "transient": {
            "deleting": false
          }
        },
        "gather": {
          "logged": 1627173416633
        }
      }
    },
    {
      "cell_type": "code",
      "source": [
        "import joblib\n",
        "from azureml.core.model import Model\n",
        "\n",
        "# Get your best run and save the model from that run.\n",
        "\n",
        "best_run = hyperdrive_run.get_best_run_by_primary_metric()\n",
        "best_run_metrics = best_run.get_metrics()\n",
        "\n",
        "# model = best_run.register_model(model_name='hyperdrive_model', model_path='./outputs/model.pkl', model_framework=Model.Framework.SCIKITLEARN, model_framework_version='0.19.1')\n",
        "\n",
        "### YOUR CODE HERE ###\n",
        "\n",
        "# best_run = hyperdrive_run.get_best_run_by_primary_metric()\n",
        "# best_run_metrics = best_run.get_metrics()\n",
        "# parameter_values = best_run.get_details()['runDefinition']['arguments']\n",
        "\n",
        "print('Best Run Id: ', best_run.id)\n",
        "print('\\n Accuracy:', best_run_metrics['accuracy'])\n",
        "# print('\\n learning rate:',parameter_values[3])\n",
        "# print('\\n keep probability:',parameter_values[5])\n",
        "# print('\\n batch size:',parameter_values[7])"
      ],
      "outputs": [],
      "execution_count": null,
      "metadata": {
        "gather": {
          "logged": 1627173436995
        },
        "jupyter": {
          "outputs_hidden": false,
          "source_hidden": false
        },
        "nteract": {
          "transient": {
            "deleting": false
          }
        }
      }
    },
    {
      "cell_type": "code",
      "source": [
        "from azureml.data.dataset_factory import TabularDatasetFactory\n",
        "\n",
        "# Create TabularDataset using TabularDatasetFactory\n",
        "# Data is available at: \n",
        "# \"https://automlsamplenotebookdata.blob.core.windows.net/automl-sample-notebook-data/bankmarketing_train.csv\"\n",
        "\n",
        "### YOUR CODE HERE ###\n",
        "\n",
        "from azureml.core.dataset import Dataset\n",
        "\n",
        "url_paths = [\n",
        "    \"https://automlsamplenotebookdata.blob.core.windows.net/automl-sample-notebook-data/bankmarketing_train.csv\"\n",
        "    ]\n",
        "\n",
        "ds = Dataset.Tabular.from_delimited_files(path=url_paths)\n",
        "type(ds)"
      ],
      "outputs": [
        {
          "output_type": "execute_result",
          "execution_count": 6,
          "data": {
            "text/plain": "azureml.data.tabular_dataset.TabularDataset"
          },
          "metadata": {}
        }
      ],
      "execution_count": 6,
      "metadata": {
        "gather": {
          "logged": 1627188728111
        }
      }
    },
    {
      "cell_type": "code",
      "source": [
        "print(ds.to_pandas_dataframe())"
      ],
      "outputs": [
        {
          "output_type": "stream",
          "name": "stdout",
          "text": [
            "       age          job  marital          education  default housing loan  \\\n",
            "0       57   technician  married        high.school       no      no  yes   \n",
            "1       55      unknown  married            unknown  unknown     yes   no   \n",
            "2       33  blue-collar  married           basic.9y       no      no   no   \n",
            "3       36       admin.  married        high.school       no      no   no   \n",
            "4       27    housemaid  married        high.school       no     yes   no   \n",
            "...    ...          ...      ...                ...      ...     ...  ...   \n",
            "32945   56    housemaid  married           basic.4y       no      no  yes   \n",
            "32946   37   management  married  university.degree       no      no  yes   \n",
            "32947   26       admin.   single  university.degree       no      no   no   \n",
            "32948   31  blue-collar   single           basic.9y       no      no   no   \n",
            "32949   39    housemaid  married           basic.4y       no      no   no   \n",
            "\n",
            "         contact month day_of_week  ...  campaign  pdays  previous  \\\n",
            "0       cellular   may         mon  ...         1    999         1   \n",
            "1      telephone   may         thu  ...         2    999         0   \n",
            "2       cellular   may         fri  ...         1    999         1   \n",
            "3      telephone   jun         fri  ...         4    999         0   \n",
            "4       cellular   jul         fri  ...         2    999         0   \n",
            "...          ...   ...         ...  ...       ...    ...       ...   \n",
            "32945   cellular   jul         mon  ...         1    999         0   \n",
            "32946   cellular   jul         fri  ...         7    999         0   \n",
            "32947   cellular   may         tue  ...         4    999         1   \n",
            "32948   cellular   apr         mon  ...         1    999         0   \n",
            "32949   cellular   aug         thu  ...         1    999         0   \n",
            "\n",
            "          poutcome emp.var.rate  cons.price.idx  cons.conf.idx  euribor3m  \\\n",
            "0          failure         -1.8          92.893          -46.2      1.299   \n",
            "1      nonexistent          1.1          93.994          -36.4      4.860   \n",
            "2          failure         -1.8          92.893          -46.2      1.313   \n",
            "3      nonexistent          1.4          94.465          -41.8      4.967   \n",
            "4      nonexistent          1.4          93.918          -42.7      4.963   \n",
            "...            ...          ...             ...            ...        ...   \n",
            "32945  nonexistent          1.4          93.918          -42.7      4.960   \n",
            "32946  nonexistent          1.4          93.918          -42.7      4.957   \n",
            "32947      failure         -1.8          92.893          -46.2      1.266   \n",
            "32948  nonexistent         -1.8          93.075          -47.1      1.405   \n",
            "32949  nonexistent          1.4          93.444          -36.1      4.963   \n",
            "\n",
            "       nr.employed   y  \n",
            "0           5099.1  no  \n",
            "1           5191.0  no  \n",
            "2           5099.1  no  \n",
            "3           5228.1  no  \n",
            "4           5228.1  no  \n",
            "...            ...  ..  \n",
            "32945       5228.1  no  \n",
            "32946       5228.1  no  \n",
            "32947       5099.1  no  \n",
            "32948       5099.1  no  \n",
            "32949       5228.1  no  \n",
            "\n",
            "[32950 rows x 21 columns]\n"
          ]
        }
      ],
      "execution_count": 7,
      "metadata": {
        "collapsed": true,
        "jupyter": {
          "source_hidden": false,
          "outputs_hidden": false
        },
        "nteract": {
          "transient": {
            "deleting": false
          }
        },
        "gather": {
          "logged": 1627188737337
        }
      }
    },
    {
      "cell_type": "code",
      "source": [
        "from train import clean_data\n",
        "\n",
        "# Use the clean_data function to clean your data.\n",
        "x, y = clean_data(ds)"
      ],
      "outputs": [
        {
          "output_type": "error",
          "ename": "TypeError",
          "evalue": "'DataFrame' object is not callable",
          "traceback": [
            "\u001b[0;31m---------------------------------------------------------------------------\u001b[0m",
            "\u001b[0;31mTypeError\u001b[0m                                 Traceback (most recent call last)",
            "\u001b[0;32m<ipython-input-9-b6421d85c9a5>\u001b[0m in \u001b[0;36m<module>\u001b[0;34m\u001b[0m\n\u001b[1;32m      2\u001b[0m \u001b[0;34m\u001b[0m\u001b[0m\n\u001b[1;32m      3\u001b[0m \u001b[0;31m# Use the clean_data function to clean your data.\u001b[0m\u001b[0;34m\u001b[0m\u001b[0;34m\u001b[0m\u001b[0;34m\u001b[0m\u001b[0m\n\u001b[0;32m----> 4\u001b[0;31m \u001b[0mx\u001b[0m\u001b[0;34m,\u001b[0m \u001b[0my\u001b[0m \u001b[0;34m=\u001b[0m \u001b[0mclean_data\u001b[0m\u001b[0;34m(\u001b[0m\u001b[0mDataset\u001b[0m\u001b[0;34m.\u001b[0m\u001b[0mTabular\u001b[0m\u001b[0;34m.\u001b[0m\u001b[0mfrom_delimited_files\u001b[0m\u001b[0;34m(\u001b[0m\u001b[0mpath\u001b[0m\u001b[0;34m=\u001b[0m\u001b[0murl_paths\u001b[0m\u001b[0;34m)\u001b[0m\u001b[0;34m)\u001b[0m\u001b[0;34m\u001b[0m\u001b[0;34m\u001b[0m\u001b[0m\n\u001b[0m",
            "\u001b[0;31mTypeError\u001b[0m: 'DataFrame' object is not callable"
          ]
        }
      ],
      "execution_count": 9,
      "metadata": {
        "gather": {
          "logged": 1598275726969
        },
        "jupyter": {
          "outputs_hidden": false,
          "source_hidden": false
        },
        "nteract": {
          "transient": {
            "deleting": false
          }
        }
      }
    },
    {
      "cell_type": "code",
      "source": [
        "from azureml.train.automl import AutoMLConfig\n",
        "\n",
        "# Set parameters for AutoMLConfig\n",
        "# NOTE: DO NOT CHANGE THE experiment_timeout_minutes PARAMETER OR YOUR INSTANCE WILL TIME OUT.\n",
        "# If you wish to run the experiment longer, you will need to run this notebook in your own\n",
        "# Azure tenant, which will incur personal costs.\n",
        "automl_config = AutoMLConfig(\n",
        "    experiment_timeout_minutes=30,\n",
        "    task=,\n",
        "    primary_metric=,\n",
        "    training_data=,\n",
        "    label_column_name=,\n",
        "    n_cross_validations=)"
      ],
      "outputs": [],
      "execution_count": null,
      "metadata": {
        "gather": {
          "logged": 1598275665403
        },
        "jupyter": {
          "outputs_hidden": false,
          "source_hidden": false
        },
        "nteract": {
          "transient": {
            "deleting": false
          }
        }
      }
    },
    {
      "cell_type": "code",
      "source": [
        "# Submit your automl run\n",
        "\n",
        "### YOUR CODE HERE ###"
      ],
      "outputs": [],
      "execution_count": null,
      "metadata": {
        "jupyter": {
          "outputs_hidden": false,
          "source_hidden": false
        },
        "nteract": {
          "transient": {
            "deleting": false
          }
        }
      }
    },
    {
      "cell_type": "code",
      "source": [
        "# Retrieve and save your best automl model.\n",
        "\n",
        "### YOUR CODE HERE ###"
      ],
      "outputs": [],
      "execution_count": null,
      "metadata": {}
    }
  ],
  "metadata": {
    "kernel_info": {
      "name": "python3"
    },
    "kernelspec": {
      "name": "python3",
      "language": "python",
      "display_name": "Python 3"
    },
    "language_info": {
      "name": "python",
      "version": "3.6.9",
      "mimetype": "text/x-python",
      "codemirror_mode": {
        "name": "ipython",
        "version": 3
      },
      "pygments_lexer": "ipython3",
      "nbconvert_exporter": "python",
      "file_extension": ".py"
    },
    "nteract": {
      "version": "nteract-front-end@1.0.0"
    },
    "microsoft": {
      "host": {
        "AzureML": {
          "notebookHasBeenCompleted": true
        }
      }
    }
  },
  "nbformat": 4,
  "nbformat_minor": 2
}