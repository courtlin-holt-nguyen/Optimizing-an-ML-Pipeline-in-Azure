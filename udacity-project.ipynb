{
  "cells": [
    {
      "cell_type": "code",
      "source": [
        "from azureml.core import Workspace, Experiment\n",
        "\n",
        "ws = Workspace.get(name=\"courtlin-udacity\",subscription_id=\"bd6c48f0-b2f5-4fd8-b4de-3351b13cbee8\", resource_group=\"udacity-nano\")\n",
        "exp = Experiment(workspace=ws, name=\"courtlin-udacity\")\n",
        "\n",
        "print('Workspace name: ' + ws.name, \n",
        "      'Azure region: ' + ws.location, \n",
        "      'Subscription id: ' + ws.subscription_id, \n",
        "      'Resource group: ' + ws.resource_group, sep = '\\n')\n",
        "\n",
        "run = exp.start_logging()"
      ],
      "outputs": [
        {
          "output_type": "stream",
          "name": "stdout",
          "text": [
            "Workspace name: courtlin-udacity\n",
            "Azure region: eastus2\n",
            "Subscription id: bd6c48f0-b2f5-4fd8-b4de-3351b13cbee8\n",
            "Resource group: udacity-nano\n"
          ]
        }
      ],
      "execution_count": 9,
      "metadata": {
        "gather": {
          "logged": 1627190042667
        }
      }
    },
    {
      "cell_type": "code",
      "source": [
        "from azureml.core.compute import ComputeTarget, AmlCompute\n",
        "\n",
        "# TODO: Create compute cluster\n",
        "# Use vm_size = \"Standard_D2_V2\" in your provisioning configuration.\n",
        "# max_nodes should be no greater than 4.\n",
        "\n",
        "from azureml.core.compute import ComputeTarget, AmlCompute\n",
        "cpu_cluster_name = \"udacityproj1\"\n",
        "compute_config = AmlCompute.provisioning_configuration(vm_size=\"Standard_D2_V2\", max_nodes=5, vm_priority='lowpriority',min_nodes=0, idle_seconds_before_scaledown=300)\n",
        "cpu_cluster = ComputeTarget.create(ws, cpu_cluster_name, compute_config)\n",
        "cpu_cluster.wait_for_completion(show_output=True)"
      ],
      "outputs": [
        {
          "output_type": "stream",
          "name": "stdout",
          "text": [
            "SucceededProvisioning operation finished, operation \"Succeeded\"\n",
            "Succeeded\n",
            "AmlCompute wait for completion finished\n",
            "\n",
            "Minimum number of nodes requested have been provisioned\n"
          ]
        }
      ],
      "execution_count": 10,
      "metadata": {
        "gather": {
          "logged": 1627190055532
        },
        "jupyter": {
          "outputs_hidden": false,
          "source_hidden": false
        },
        "nteract": {
          "transient": {
            "deleting": false
          }
        }
      }
    },
    {
      "cell_type": "code",
      "source": [
        "from azureml.widgets import RunDetails\n",
        "from azureml.train.sklearn import SKLearn\n",
        "from azureml.train.hyperdrive.run import PrimaryMetricGoal\n",
        "from azureml.train.hyperdrive.policy import BanditPolicy\n",
        "from azureml.train.hyperdrive.sampling import RandomParameterSampling\n",
        "from azureml.train.hyperdrive.runconfig import HyperDriveConfig\n",
        "from azureml.train.hyperdrive.parameter_expressions import uniform\n",
        "import os\n",
        "\n",
        "# Specify parameter sampler\n",
        "# ps = ### YOUR CODE HERE ###\n",
        "from azureml.train.hyperdrive import RandomParameterSampling\n",
        "from azureml.train.hyperdrive import normal, uniform, choice\n",
        "\n",
        "# ps = RandomParameterSampling( {\n",
        "#         \"learning_rate\": normal(10, 3),\n",
        "#         \"keep_probability\": uniform(0.05, 0.1),\n",
        "#         \"batch_size\": choice(16, 32, 64, 128)\n",
        "#     }\n",
        "# )\n",
        "\n",
        "\n",
        "ps = RandomParameterSampling(\n",
        "    {\n",
        "        \"--C\": choice(0.1,1.0,10.0),\n",
        "        \"--max_iter\": choice(5,10,20)\n",
        "    }\n",
        ")\n",
        "\n",
        "\n",
        "# Specify an Early Termination Policy\n",
        "# policy = ### YOUR CODE HERE ###\n",
        "early_termination_policy = BanditPolicy(slack_factor = 0.1, evaluation_interval=1, delay_evaluation=5)\n",
        "\n",
        "\n",
        "if \"training\" not in os.listdir():\n",
        "    os.mkdir(\"./training\")\n",
        "\n",
        "# Create a SKLearn estimator for use with train.py\n",
        "# est = ### YOUR CODE HERE ###\n",
        "\n",
        "\n",
        "from azureml.core import ScriptRunConfig\n",
        "\n",
        "# import os\n",
        "# est = SKLearn(source_directory=os.path.join('./'),\n",
        "#                       entry_script='train.py',\n",
        "#                       compute_target=cpu_cluster,\n",
        "#              )\n",
        "\n",
        "compute_target = ws.compute_targets['udacityproj1']\n",
        "\n",
        "# from azureml.core import Environment\n",
        "# sklearn_env = Environment.get(workspace=ws, name='AzureML-Tutorial')\n",
        "\n",
        "# src = ScriptRunConfig(source_directory=os.path.join('./'),\n",
        "#                       script='train.py',\n",
        "#                       arguments=['--kernel', 'linear', '--penalty', 1.0],\n",
        "#                       compute_target=compute_target,\n",
        "#                       environment=sklearn_env)\n",
        "\n",
        "# est = SKLearn(source_directory=os.path.join('./'),\n",
        "#                       entry_script='train.py',\n",
        "#                       compute_target=cpu_cluster,\n",
        "#              )\n",
        "\n",
        "# Create a SKLearn estimator for use with train.py\n",
        "# est = SKLearn(\n",
        "#     source_directory=\".\",\n",
        "#     compute_target=compute_target,\n",
        "#     entry_script=\"train.py\"\n",
        "# )\n",
        "\n",
        "\n",
        "# Create a SKLearn estimator for use with train.py\n",
        "est = SKLearn(\n",
        "    source_directory=os.path.join('./'),\n",
        "    compute_target=compute_target,\n",
        "    entry_script=\"train.py\"\n",
        ")\n",
        "\n",
        "\n",
        "# Create a HyperDriveConfig using the estimator, hyperparameter sampler, and policy.\n",
        "# hyperdrive_config = ### YOUR CODE HERE ###\n",
        "hyperdrive_config = HyperDriveConfig(\n",
        "                             estimator=est,\n",
        "                             hyperparameter_sampling=ps,\n",
        "                             policy=early_termination_policy,\n",
        "                             primary_metric_name=\"accuracy\",\n",
        "                             primary_metric_goal=PrimaryMetricGoal.MAXIMIZE,\n",
        "                             max_total_runs=20,\n",
        "                             max_concurrent_runs=10)"
      ],
      "outputs": [
        {
          "output_type": "stream",
          "name": "stderr",
          "text": [
            "'SKLearn' estimator is deprecated. Please use 'ScriptRunConfig' from 'azureml.core.script_run_config' with your own defined environment or the AzureML-Tutorial curated environment.\n",
            "'enabled' is deprecated. Please use the azureml.core.runconfig.DockerConfiguration object with the 'use_docker' param instead.\n"
          ]
        }
      ],
      "execution_count": 11,
      "metadata": {
        "gather": {
          "logged": 1627190061928
        },
        "jupyter": {
          "outputs_hidden": false,
          "source_hidden": false
        },
        "nteract": {
          "transient": {
            "deleting": false
          }
        }
      }
    },
    {
      "cell_type": "code",
      "source": [
        "# Submit your hyperdrive run to the experiment and show run details with the widget.\n",
        "\n",
        "### YOUR CODE HERE ###\n",
        "\n",
        "from azureml.core.experiment import Experiment\n",
        "experiment = Experiment(ws, \"courtlin-udacity\")\n",
        "hyperdrive_run = experiment.submit(hyperdrive_config, show_output=True)\n",
        "RunDetails(hyperdrive_run).show()\n",
        "\n"
      ],
      "outputs": [],
      "execution_count": null,
      "metadata": {
        "gather": {
          "logged": 1627173223115
        }
      }
    },
    {
      "cell_type": "code",
      "source": [
        "# from azureml.widgets import RunDetails\r\n",
        "# RunDetails(hyperdrive_run).show()"
      ],
      "outputs": [],
      "execution_count": null,
      "metadata": {
        "collapsed": true,
        "jupyter": {
          "source_hidden": false,
          "outputs_hidden": false
        },
        "nteract": {
          "transient": {
            "deleting": false
          }
        },
        "gather": {
          "logged": 1627173416633
        }
      }
    },
    {
      "cell_type": "code",
      "source": [
        "import joblib\n",
        "from azureml.core.model import Model\n",
        "\n",
        "# Get your best run and save the model from that run.\n",
        "\n",
        "best_run = hyperdrive_run.get_best_run_by_primary_metric()\n",
        "best_run_metrics = best_run.get_metrics()\n",
        "\n",
        "# model = best_run.register_model(model_name='hyperdrive_model', model_path='./outputs/model.pkl', model_framework=Model.Framework.SCIKITLEARN, model_framework_version='0.19.1')\n",
        "\n",
        "### YOUR CODE HERE ###\n",
        "\n",
        "# best_run = hyperdrive_run.get_best_run_by_primary_metric()\n",
        "# best_run_metrics = best_run.get_metrics()\n",
        "# parameter_values = best_run.get_details()['runDefinition']['arguments']\n",
        "\n",
        "print('Best Run Id: ', best_run.id)\n",
        "print('\\n Accuracy:', best_run_metrics['accuracy'])\n",
        "# print('\\n learning rate:',parameter_values[3])\n",
        "# print('\\n keep probability:',parameter_values[5])\n",
        "# print('\\n batch size:',parameter_values[7])"
      ],
      "outputs": [],
      "execution_count": null,
      "metadata": {
        "gather": {
          "logged": 1627173436995
        },
        "jupyter": {
          "outputs_hidden": false,
          "source_hidden": false
        },
        "nteract": {
          "transient": {
            "deleting": false
          }
        }
      }
    },
    {
      "cell_type": "code",
      "source": [
        "import joblib\r\n",
        "best_run, fitted_model = hyperdrive_run.get_output_by_primary_metric()\r\n",
        "print(best_run)\r\n",
        "print(fitted_model)\r\n",
        "joblib.dump(fitted_model, \"fitted_hyperdrive_model.joblib\")"
      ],
      "outputs": [],
      "execution_count": null,
      "metadata": {
        "collapsed": true,
        "jupyter": {
          "source_hidden": false,
          "outputs_hidden": false
        },
        "nteract": {
          "transient": {
            "deleting": false
          }
        }
      }
    },
    {
      "cell_type": "code",
      "source": [
        "from azureml.data.dataset_factory import TabularDatasetFactory\n",
        "\n",
        "# Create TabularDataset using TabularDatasetFactory\n",
        "# Data is available at: \n",
        "# \"https://automlsamplenotebookdata.blob.core.windows.net/automl-sample-notebook-data/bankmarketing_train.csv\"\n",
        "\n",
        "### YOUR CODE HERE ###\n",
        "\n",
        "from azureml.core.dataset import Dataset\n",
        "\n",
        "url_paths = [\n",
        "    \"https://automlsamplenotebookdata.blob.core.windows.net/automl-sample-notebook-data/bankmarketing_train.csv\"\n",
        "    ]\n",
        "\n",
        "ds = TabularDatasetFactory.from_delimited_files(path=url_paths)\n",
        "type(ds)"
      ],
      "outputs": [
        {
          "output_type": "execute_result",
          "execution_count": 1,
          "data": {
            "text/plain": "azureml.data.tabular_dataset.TabularDataset"
          },
          "metadata": {}
        }
      ],
      "execution_count": 1,
      "metadata": {
        "gather": {
          "logged": 1627189734046
        }
      }
    },
    {
      "cell_type": "code",
      "source": [
        "# print(ds.to_pandas_dataframe())"
      ],
      "outputs": [],
      "execution_count": null,
      "metadata": {
        "collapsed": true,
        "jupyter": {
          "source_hidden": false,
          "outputs_hidden": false
        },
        "nteract": {
          "transient": {
            "deleting": false
          }
        },
        "gather": {
          "logged": 1627188737337
        }
      }
    },
    {
      "cell_type": "code",
      "source": [
        "from train import clean_data\n",
        "\n",
        "# Use the clean_data function to clean your data.\n",
        "# x, y = clean_data(ds)\n",
        "\n",
        "from sklearn.linear_model import LogisticRegression\n",
        "import argparse\n",
        "import os\n",
        "import numpy as np\n",
        "from sklearn.metrics import mean_squared_error\n",
        "import joblib\n",
        "from sklearn.model_selection import train_test_split\n",
        "from sklearn.preprocessing import OneHotEncoder\n",
        "import pandas as pd\n",
        "from azureml.core.run import Run\n",
        "from azureml.data.dataset_factory import TabularDatasetFactory\n",
        "\n",
        "# TODO: Create TabularDataset using TabularDatasetFactory\n",
        "# Data is located at:\n",
        "# \"https://automlsamplenotebookdata.blob.core.windows.net/automl-sample-notebook-data/bankmarketing_train.csv\"\n",
        "\n",
        "from azureml.core.dataset import Dataset\n",
        "\n",
        "url_paths = [\n",
        "    \"https://automlsamplenotebookdata.blob.core.windows.net/automl-sample-notebook-data/bankmarketing_train.csv\"\n",
        "            ]\n",
        "\n",
        "ds = TabularDatasetFactory.from_delimited_files(path=url_paths)\n",
        "\n",
        "run = Run.get_context(allow_offline=True)\n",
        "\n",
        "def clean_data(data):\n",
        "    # Dict for cleaning data\n",
        "    months = {\"jan\":1, \"feb\":2, \"mar\":3, \"apr\":4, \"may\":5, \"jun\":6, \"jul\":7, \"aug\":8, \"sep\":9, \"oct\":10, \"nov\":11, \"dec\":12}\n",
        "    weekdays = {\"mon\":1, \"tue\":2, \"wed\":3, \"thu\":4, \"fri\":5, \"sat\":6, \"sun\":7}\n",
        "\n",
        "    # Clean and one hot encode data\n",
        "    x_df = data.to_pandas_dataframe().dropna()\n",
        "    jobs = pd.get_dummies(x_df.job, prefix=\"job\")\n",
        "    x_df.drop(\"job\", inplace=True, axis=1)\n",
        "    x_df = x_df.join(jobs)\n",
        "    x_df[\"marital\"] = x_df.marital.apply(lambda s: 1 if s == \"married\" else 0)\n",
        "    x_df[\"default\"] = x_df.default.apply(lambda s: 1 if s == \"yes\" else 0)\n",
        "    x_df[\"housing\"] = x_df.housing.apply(lambda s: 1 if s == \"yes\" else 0)\n",
        "    x_df[\"loan\"] = x_df.loan.apply(lambda s: 1 if s == \"yes\" else 0)\n",
        "    contact = pd.get_dummies(x_df.contact, prefix=\"contact\")\n",
        "    x_df.drop(\"contact\", inplace=True, axis=1)\n",
        "    x_df = x_df.join(contact)\n",
        "    education = pd.get_dummies(x_df.education, prefix=\"education\")\n",
        "    x_df.drop(\"education\", inplace=True, axis=1)\n",
        "    x_df = x_df.join(education)\n",
        "    x_df[\"month\"] = x_df.month.map(months)\n",
        "    x_df[\"day_of_week\"] = x_df.day_of_week.map(weekdays)\n",
        "    x_df[\"poutcome\"] = x_df.poutcome.apply(lambda s: 1 if s == \"success\" else 0)\n",
        "\n",
        "    y_df = x_df.pop(\"y\").apply(lambda s: 1 if s == \"yes\" else 0)\n",
        "\n",
        "    return x_df, y_df\n",
        "\n",
        "x, y = clean_data(ds)\n",
        "\n",
        "#is this necessary with automl\n",
        "x_train, x_test, y_train, y_test = train_test_split(x, y, test_size = 0.2, random_state=123)\n",
        "\n",
        "train_data = x.join(y)\n",
        "\n",
        "train_data.to_csv(\"data/train_data.csv\", index=False)\n",
        "ds = ws.get_default_datastore()\n",
        "ds.upload(src_dir='./data', target_path='bankmarketing', overwrite=True, show_progress=True)\n",
        " \n",
        "# Upload the training data as a tabular dataset for access during training on remote compute\n",
        "train_data = TabularDatasetFactory.from_delimited_files(path=ds.path('bankmarketing/train_data.csv'))\n",
        "print(train_data.to_pandas_dataframe())\n",
        "# clean_data = x\n",
        "# clean_data['y'] = y \n",
        "\n",
        "\n",
        "type(train_data)\n"
      ],
      "outputs": [
        {
          "output_type": "stream",
          "name": "stdout",
          "text": [
            "Uploading an estimated of 1 files\n",
            "Uploading ./data/train_data.csv\n",
            "Uploaded ./data/train_data.csv, 1 files out of an estimated total of 1\n",
            "Uploaded 1 files\n",
            "       age  marital  default  housing  loan  month  day_of_week  duration  \\\n",
            "0       57        1        0        0     1      5            1       371   \n",
            "1       55        1        0        1     0      5            4       285   \n",
            "2       33        1        0        0     0      5            5        52   \n",
            "3       36        1        0        0     0      6            5       355   \n",
            "4       27        1        0        1     0      7            5       189   \n",
            "...    ...      ...      ...      ...   ...    ...          ...       ...   \n",
            "32945   56        1        0        0     1      7            1       116   \n",
            "32946   37        1        0        0     1      7            5        69   \n",
            "32947   26        0        0        0     0      5            2       135   \n",
            "32948   31        0        0        0     0      4            1       386   \n",
            "32949   39        1        0        0     0      8            4       179   \n",
            "\n",
            "       campaign  pdays  ...  contact_telephone  education_basic.4y  \\\n",
            "0             1    999  ...                  0                   0   \n",
            "1             2    999  ...                  1                   0   \n",
            "2             1    999  ...                  0                   0   \n",
            "3             4    999  ...                  1                   0   \n",
            "4             2    999  ...                  0                   0   \n",
            "...         ...    ...  ...                ...                 ...   \n",
            "32945         1    999  ...                  0                   1   \n",
            "32946         7    999  ...                  0                   0   \n",
            "32947         4    999  ...                  0                   0   \n",
            "32948         1    999  ...                  0                   0   \n",
            "32949         1    999  ...                  0                   1   \n",
            "\n",
            "       education_basic.6y  education_basic.9y  education_high.school  \\\n",
            "0                       0                   0                      1   \n",
            "1                       0                   0                      0   \n",
            "2                       0                   1                      0   \n",
            "3                       0                   0                      1   \n",
            "4                       0                   0                      1   \n",
            "...                   ...                 ...                    ...   \n",
            "32945                   0                   0                      0   \n",
            "32946                   0                   0                      0   \n",
            "32947                   0                   0                      0   \n",
            "32948                   0                   1                      0   \n",
            "32949                   0                   0                      0   \n",
            "\n",
            "       education_illiterate  education_professional.course  \\\n",
            "0                         0                              0   \n",
            "1                         0                              0   \n",
            "2                         0                              0   \n",
            "3                         0                              0   \n",
            "4                         0                              0   \n",
            "...                     ...                            ...   \n",
            "32945                     0                              0   \n",
            "32946                     0                              0   \n",
            "32947                     0                              0   \n",
            "32948                     0                              0   \n",
            "32949                     0                              0   \n",
            "\n",
            "       education_university.degree  education_unknown  y  \n",
            "0                                0                  0  0  \n",
            "1                                0                  1  0  \n",
            "2                                0                  0  0  \n",
            "3                                0                  0  0  \n",
            "4                                0                  0  0  \n",
            "...                            ...                ... ..  \n",
            "32945                            0                  0  0  \n",
            "32946                            1                  0  0  \n",
            "32947                            1                  0  0  \n",
            "32948                            0                  0  0  \n",
            "32949                            0                  0  0  \n",
            "\n",
            "[32950 rows x 40 columns]\n"
          ]
        },
        {
          "output_type": "execute_result",
          "execution_count": 29,
          "data": {
            "text/plain": "azureml.data.tabular_dataset.TabularDataset"
          },
          "metadata": {}
        }
      ],
      "execution_count": 29,
      "metadata": {
        "gather": {
          "logged": 1627191204972
        },
        "jupyter": {
          "outputs_hidden": false,
          "source_hidden": false
        },
        "nteract": {
          "transient": {
            "deleting": false
          }
        }
      }
    },
    {
      "cell_type": "code",
      "source": [
        "from azureml.train.automl import AutoMLConfig\n",
        "\n",
        "# Set parameters for AutoMLConfig\n",
        "# NOTE: DO NOT CHANGE THE experiment_timeout_minutes PARAMETER OR YOUR INSTANCE WILL TIME OUT.\n",
        "# If you wish to run the experiment longer, you will need to run this notebook in your own\n",
        "# Azure tenant, which will incur personal costs.\n",
        "# automl_config = AutoMLConfig(\n",
        "#     experiment_timeout_minutes=30,\n",
        "#     task=,\n",
        "#     primary_metric=,\n",
        "#     training_data=,\n",
        "#     label_column_name=,\n",
        "#     n_cross_validations=)\n",
        "\n",
        "automl_config = AutoMLConfig(\n",
        "    experiment_timeout_hours=.5,\n",
        "    task=\"classification\",\n",
        "    primary_metric=\"accuracy\",\n",
        "    training_data= train_data,\n",
        "    label_column_name=\"y\",\n",
        "    n_cross_validations=5,\n",
        "    compute_target=compute_target,\n",
        "    max_concurrent_iterations=5,\n",
        "    max_cores_per_iteration=2\n",
        ")"
      ],
      "outputs": [],
      "execution_count": 30,
      "metadata": {
        "gather": {
          "logged": 1627191210023
        },
        "jupyter": {
          "outputs_hidden": false,
          "source_hidden": false
        },
        "nteract": {
          "transient": {
            "deleting": false
          }
        }
      }
    },
    {
      "cell_type": "code",
      "source": [
        "# Submit your automl run\n",
        "\n",
        "### YOUR CODE HERE ###\n",
        "automl_run = exp.submit(automl_config, show_output=True)\n"
      ],
      "outputs": [
        {
          "output_type": "stream",
          "name": "stdout",
          "text": [
            "Submitting remote run.\n",
            "No run_configuration provided, running on udacityproj1 with default configuration\n",
            "Running on remote compute: udacityproj1\n"
          ]
        },
        {
          "output_type": "display_data",
          "data": {
            "text/plain": "<IPython.core.display.HTML object>",
            "text/html": "<table style=\"width:100%\"><tr><th>Experiment</th><th>Id</th><th>Type</th><th>Status</th><th>Details Page</th><th>Docs Page</th></tr><tr><td>courtlin-udacity</td><td>AutoML_44de51ab-67a6-4580-9a73-07a3bb219c34</td><td>automl</td><td>NotStarted</td><td><a href=\"https://ml.azure.com/runs/AutoML_44de51ab-67a6-4580-9a73-07a3bb219c34?wsid=/subscriptions/bd6c48f0-b2f5-4fd8-b4de-3351b13cbee8/resourcegroups/udacity-nano/workspaces/courtlin-udacity&amp;tid=3920f434-053b-4f53-aa54-b09a04e8f6dd\" target=\"_blank\" rel=\"noopener\">Link to Azure Machine Learning studio</a></td><td><a href=\"https://docs.microsoft.com/en-us/python/api/overview/azure/ml/intro?view=azure-ml-py\" target=\"_blank\" rel=\"noopener\">Link to Documentation</a></td></tr></table>"
          },
          "metadata": {}
        },
        {
          "output_type": "stream",
          "name": "stdout",
          "text": [
            "\n",
            "Current status: FeaturesGeneration. Generating features for the dataset.\n",
            "Current status: DatasetFeaturization. Beginning to fit featurizers and featurize the dataset.\n",
            "Current status: DatasetCrossValidationSplit. Generating individually featurized CV splits.\n",
            "Current status: ModelSelection. Beginning model selection.\n",
            "\n",
            "****************************************************************************************************\n",
            "DATA GUARDRAILS: \n",
            "\n",
            "TYPE:         Class balancing detection\n",
            "STATUS:       ALERTED\n",
            "DESCRIPTION:  To decrease model bias, please cancel the current run and fix balancing problem.\n",
            "              Learn more about imbalanced data: https://aka.ms/AutomatedMLImbalancedData\n",
            "DETAILS:      Imbalanced data can lead to a falsely perceived positive effect of a model's accuracy because the input data has bias towards one class.\n",
            "+---------------------------------+---------------------------------+--------------------------------------+\n",
            "|Size of the smallest class       |Name/Label of the smallest class |Number of samples in the training data|\n",
            "+=================================+=================================+======================================+\n",
            "|3692                             |1                                |32950                                 |\n",
            "+---------------------------------+---------------------------------+--------------------------------------+\n",
            "\n",
            "****************************************************************************************************\n",
            "\n",
            "TYPE:         Missing feature values imputation\n",
            "STATUS:       PASSED\n",
            "DESCRIPTION:  No feature missing values were detected in the training data.\n",
            "              Learn more about missing value imputation: https://aka.ms/AutomatedMLFeaturization\n",
            "\n",
            "****************************************************************************************************\n",
            "\n",
            "TYPE:         High cardinality feature detection\n",
            "STATUS:       PASSED\n",
            "DESCRIPTION:  Your inputs were analyzed, and no high cardinality features were detected.\n",
            "              Learn more about high cardinality feature handling: https://aka.ms/AutomatedMLFeaturization\n",
            "\n",
            "****************************************************************************************************\n",
            "\n",
            "****************************************************************************************************\n",
            "ITERATION: The iteration being evaluated.\n",
            "PIPELINE: A summary description of the pipeline being evaluated.\n",
            "DURATION: Time taken for the current iteration.\n",
            "METRIC: The result of computing score on the fitted pipeline.\n",
            "BEST: The best observed score thus far.\n",
            "****************************************************************************************************\n",
            "\n",
            " ITERATION   PIPELINE                                       DURATION      METRIC      BEST\n",
            "         0   MaxAbsScaler LightGBM                          0:00:39       0.9152    0.9152\n",
            "         1   MaxAbsScaler XGBoostClassifier                 0:00:45       0.9153    0.9153\n",
            "         2   MaxAbsScaler RandomForest                      0:00:37       0.8908    0.9153\n",
            "         3   MaxAbsScaler RandomForest                      0:00:34       0.8880    0.9153\n",
            "         4   MaxAbsScaler RandomForest                      0:00:39       0.8176    0.9153\n",
            "         5   MaxAbsScaler RandomForest                      0:00:36       0.7732    0.9153\n",
            "         6   SparseNormalizer XGBoostClassifier             0:00:57       0.9127    0.9153\n",
            "         7   MaxAbsScaler GradientBoosting                  0:00:48       0.9031    0.9153\n",
            "         8   StandardScalerWrapper RandomForest             0:00:38       0.9003    0.9153\n",
            "         9   MaxAbsScaler LogisticRegression                0:00:43       0.9083    0.9153\n",
            "        10   MaxAbsScaler ExtremeRandomTrees                0:01:49       0.8880    0.9153\n",
            "        11   SparseNormalizer XGBoostClassifier             0:00:48       0.9121    0.9153\n",
            "        12   MaxAbsScaler LightGBM                          0:01:40       0.8912    0.9153\n",
            "        13   StandardScalerWrapper LightGBM                 0:00:36       0.8880    0.9153\n",
            "        14   SparseNormalizer XGBoostClassifier             0:01:48       0.9137    0.9153\n",
            "        15   StandardScalerWrapper ExtremeRandomTrees       0:00:49       0.8880    0.9153\n",
            "        16   StandardScalerWrapper LightGBM                 0:00:38       0.8880    0.9153\n",
            "        17   MaxAbsScaler LightGBM                          0:00:50       0.9049    0.9153\n",
            "        18   StandardScalerWrapper LightGBM                 0:00:49       0.9049    0.9153\n",
            "        19   SparseNormalizer LightGBM                      0:00:47       0.9145    0.9153\n",
            "        20   SparseNormalizer XGBoostClassifier             0:00:47       0.9123    0.9153\n",
            "        21   MaxAbsScaler LightGBM                          0:00:38       0.9064    0.9153\n",
            "        22   MaxAbsScaler LightGBM                          0:00:41       0.9103    0.9153\n",
            "        23   StandardScalerWrapper LightGBM                 0:00:33       0.8924    0.9153\n",
            "        24   StandardScalerWrapper LightGBM                 0:00:52       0.9086    0.9153\n",
            "        25   SparseNormalizer XGBoostClassifier             0:00:39       0.8880    0.9153\n",
            "        26   StandardScalerWrapper LightGBM                 0:00:38       0.9134    0.9153\n",
            "        27   SparseNormalizer LightGBM                      0:00:38       0.9113    0.9153\n",
            "        28   SparseNormalizer XGBoostClassifier             0:04:49       0.9112    0.9153\n",
            "        29    VotingEnsemble                                0:00:58       0.9166    0.9166\n",
            "        30    StackEnsemble                                 0:01:11       0.9159    0.9166\n"
          ]
        }
      ],
      "execution_count": 31,
      "metadata": {
        "jupyter": {
          "outputs_hidden": false,
          "source_hidden": false
        },
        "nteract": {
          "transient": {
            "deleting": false
          }
        },
        "gather": {
          "logged": 1627194001266
        }
      }
    },
    {
      "cell_type": "code",
      "source": [
        "# Retrieve and save your best automl model.\n",
        "\n",
        "### YOUR CODE HERE ###\n",
        "# best_run_metrics = best_automl_run.get_metrics() \n",
        "# for metric_name in best_run_metrics:\n",
        "#      metric = best_run_metrics[metric_name]\n",
        "#      print(metric_name, metric)\n",
        "\n",
        "\n",
        "best_run, best_model = automl_run.get_output()\n",
        "\n",
        "print(\"Best run:\")\n",
        "print(best_run)\n",
        "print(\"Best model:\")\n",
        "print(best_model)"
      ],
      "outputs": [
        {
          "output_type": "stream",
          "name": "stderr",
          "text": [
            "WARNING:root:The version of the SDK does not match the version the model was trained on.\n",
            "WARNING:root:The consistency in the result may not be guaranteed.\n",
            "WARNING:root:Package:azureml-automl-core, training version:1.32.0, current version:1.31.0\n",
            "Package:azureml-automl-runtime, training version:1.32.0, current version:1.31.0\n",
            "Package:azureml-core, training version:1.32.0, current version:1.31.0\n",
            "Package:azureml-dataset-runtime, training version:1.32.0, current version:1.31.0\n",
            "Package:azureml-defaults, training version:1.32.0, current version:1.31.0\n",
            "Package:azureml-interpret, training version:1.32.0, current version:1.31.0\n",
            "Package:azureml-mlflow, training version:1.32.0, current version:1.31.0\n",
            "Package:azureml-pipeline-core, training version:1.32.0, current version:1.31.0\n",
            "Package:azureml-telemetry, training version:1.32.0, current version:1.31.0\n",
            "Package:azureml-train-automl-client, training version:1.32.0, current version:1.31.0\n",
            "Package:azureml-train-automl-runtime, training version:1.32.0, current version:1.31.0\n",
            "WARNING:root:Please ensure the version of your local conda dependencies match the version on which your model was trained in order to properly retrieve your model.\n"
          ]
        },
        {
          "output_type": "stream",
          "name": "stdout",
          "text": [
            "Best run:\n",
            "Run(Experiment: courtlin-udacity,\n",
            "Id: AutoML_44de51ab-67a6-4580-9a73-07a3bb219c34_29,\n",
            "Type: azureml.scriptrun,\n",
            "Status: Completed)\n",
            "Best model:\n",
            "Pipeline(memory=None,\n",
            "         steps=[('datatransformer',\n",
            "                 DataTransformer(enable_dnn=False, enable_feature_sweeping=True, feature_sweeping_config={}, feature_sweeping_timeout=86400, featurization_config=None, force_text_dnn=False, is_cross_validation=True, is_onnx_compatible=False, observer=None, task='classification', working_dir='/mnt/batch/tasks/shared/LS_root/mount...\n",
            "    gpu_training_param_dict={'processing_unit_type': 'cpu'}\n",
            "), random_state=0, reg_alpha=0, reg_lambda=0.5208333333333334, subsample=0.6, tree_method='auto'))], verbose=False))], flatten_transform=None, weights=[0.2857142857142857, 0.2857142857142857, 0.07142857142857142, 0.14285714285714285, 0.07142857142857142, 0.07142857142857142, 0.07142857142857142]))],\n",
            "         verbose=False)\n"
          ]
        }
      ],
      "execution_count": 32,
      "metadata": {
        "gather": {
          "logged": 1627194015560
        }
      }
    },
    {
      "cell_type": "code",
      "source": [
        "best_run_metrics = automl_run.get_metrics() \r\n",
        "for metric_name in best_run_metrics:\r\n",
        "     metric = best_run_metrics[metric_name]\r\n",
        "     print(metric_name, metric)"
      ],
      "outputs": [
        {
          "output_type": "stream",
          "name": "stdout",
          "text": [
            "experiment_status ['DatasetEvaluation', 'FeaturesGeneration', 'DatasetFeaturization', 'DatasetFeaturizationCompleted', 'DatasetBalancing', 'DatasetCrossValidationSplit', 'ModelSelection', 'BestRunExplainModel', 'ModelExplanationDataSetSetup', 'PickSurrogateModel', 'EngineeredFeatureExplanations', 'EngineeredFeatureExplanations', 'RawFeaturesExplanations', 'RawFeaturesExplanations', 'BestRunExplainModel']\n",
            "experiment_status_description ['Gathering dataset statistics.', 'Generating features for the dataset.', 'Beginning to fit featurizers and featurize the dataset.', 'Completed fit featurizers and featurizing the dataset.', 'Performing class balancing sweeping', 'Generating individually featurized CV splits.', 'Beginning model selection.', 'Best run model explanations started', 'Model explanations data setup completed', 'Choosing LightGBM as the surrogate model for explanations', 'Computation of engineered features started', 'Computation of engineered features completed', 'Computation of raw features started', 'Computation of raw features completed', 'Best run model explanations completed']\n",
            "recall_score_weighted 0.9165705614567526\n",
            "log_loss 0.17429361106318703\n",
            "recall_score_micro 0.9165705614567526\n",
            "AUC_micro 0.981283044848842\n",
            "f1_score_micro 0.9165705614567526\n",
            "recall_score_macro 0.7463532546610276\n",
            "precision_score_weighted 0.9103040032505966\n",
            "matthews_correlation 0.5446582668412878\n",
            "precision_score_macro 0.8011462279223242\n",
            "average_precision_score_micro 0.9820878958806908\n",
            "AUC_weighted 0.9494806165494815\n",
            "balanced_accuracy 0.7463532546610276\n",
            "AUC_macro 0.9494806165494815\n",
            "f1_score_weighted 0.9124317373411948\n",
            "precision_score_micro 0.9165705614567526\n",
            "average_precision_score_macro 0.8297540591523507\n",
            "norm_macro_recall 0.4927065093220552\n",
            "average_precision_score_weighted 0.9568085256382629\n",
            "accuracy 0.9165705614567526\n",
            "f1_score_macro 0.7697995294228905\n",
            "weighted_accuracy 0.9588436001611829\n"
          ]
        }
      ],
      "execution_count": 36,
      "metadata": {
        "collapsed": true,
        "jupyter": {
          "source_hidden": false,
          "outputs_hidden": false
        },
        "nteract": {
          "transient": {
            "deleting": false
          }
        },
        "gather": {
          "logged": 1627194409537
        }
      }
    },
    {
      "cell_type": "code",
      "source": [
        "from azureml.widgets import RunDetails\r\n",
        "RunDetails(automl_run).show()"
      ],
      "outputs": [
        {
          "output_type": "display_data",
          "data": {
            "text/plain": "_AutoMLWidget(widget_settings={'childWidgetDisplay': 'popup', 'send_telemetry': False, 'log_level': 'INFO', 's…",
            "application/vnd.jupyter.widget-view+json": {
              "version_major": 2,
              "version_minor": 0,
              "model_id": "fc336cd5f0114cb9bb20d8fbee67df8a"
            }
          },
          "metadata": {}
        },
        {
          "output_type": "display_data",
          "data": {
            "application/aml.mini.widget.v1": "{\"status\": \"Completed\", \"workbench_run_details_uri\": \"https://ml.azure.com/runs/AutoML_44de51ab-67a6-4580-9a73-07a3bb219c34?wsid=/subscriptions/bd6c48f0-b2f5-4fd8-b4de-3351b13cbee8/resourcegroups/udacity-nano/workspaces/courtlin-udacity&tid=3920f434-053b-4f53-aa54-b09a04e8f6dd\", \"run_id\": \"AutoML_44de51ab-67a6-4580-9a73-07a3bb219c34\", \"run_properties\": {\"run_id\": \"AutoML_44de51ab-67a6-4580-9a73-07a3bb219c34\", \"created_utc\": \"2021-07-25T05:33:35.431153Z\", \"properties\": {\"num_iterations\": \"1000\", \"training_type\": \"TrainFull\", \"acquisition_function\": \"EI\", \"primary_metric\": \"accuracy\", \"train_split\": \"0\", \"acquisition_parameter\": \"0\", \"num_cross_validation\": \"5\", \"target\": \"udacityproj1\", \"AMLSettingsJsonString\": \"{\\\"path\\\":null,\\\"name\\\":\\\"courtlin-udacity\\\",\\\"subscription_id\\\":\\\"bd6c48f0-b2f5-4fd8-b4de-3351b13cbee8\\\",\\\"resource_group\\\":\\\"udacity-nano\\\",\\\"workspace_name\\\":\\\"courtlin-udacity\\\",\\\"region\\\":\\\"eastus2\\\",\\\"compute_target\\\":\\\"udacityproj1\\\",\\\"spark_service\\\":null,\\\"azure_service\\\":\\\"remote\\\",\\\"many_models\\\":false,\\\"pipeline_fetch_max_batch_size\\\":1,\\\"enable_batch_run\\\":false,\\\"enable_run_restructure\\\":false,\\\"start_auxiliary_runs_before_parent_complete\\\":false,\\\"enable_code_generation\\\":false,\\\"iterations\\\":1000,\\\"primary_metric\\\":\\\"accuracy\\\",\\\"task_type\\\":\\\"classification\\\",\\\"data_script\\\":null,\\\"test_size\\\":0.0,\\\"validation_size\\\":0.0,\\\"n_cross_validations\\\":5,\\\"y_min\\\":null,\\\"y_max\\\":null,\\\"num_classes\\\":null,\\\"featurization\\\":\\\"auto\\\",\\\"_ignore_package_version_incompatibilities\\\":false,\\\"is_timeseries\\\":false,\\\"max_cores_per_iteration\\\":1,\\\"max_concurrent_iterations\\\":1,\\\"iteration_timeout_minutes\\\":null,\\\"mem_in_mb\\\":null,\\\"enforce_time_on_windows\\\":false,\\\"experiment_timeout_minutes\\\":30,\\\"experiment_exit_score\\\":null,\\\"whitelist_models\\\":null,\\\"blacklist_algos\\\":[\\\"TensorFlowLinearClassifier\\\",\\\"TensorFlowDNN\\\"],\\\"supported_models\\\":[\\\"TensorFlowLinearClassifier\\\",\\\"GradientBoosting\\\",\\\"AveragedPerceptronClassifier\\\",\\\"KNN\\\",\\\"LogisticRegression\\\",\\\"SVM\\\",\\\"SGD\\\",\\\"TensorFlowDNN\\\",\\\"XGBoostClassifier\\\",\\\"LightGBM\\\",\\\"MultinomialNaiveBayes\\\",\\\"ExtremeRandomTrees\\\",\\\"LinearSVM\\\",\\\"RandomForest\\\",\\\"BernoulliNaiveBayes\\\",\\\"DecisionTree\\\"],\\\"private_models\\\":[],\\\"auto_blacklist\\\":true,\\\"blacklist_samples_reached\\\":false,\\\"exclude_nan_labels\\\":true,\\\"verbosity\\\":20,\\\"_debug_log\\\":\\\"azureml_automl.log\\\",\\\"show_warnings\\\":false,\\\"model_explainability\\\":true,\\\"service_url\\\":null,\\\"sdk_url\\\":null,\\\"sdk_packages\\\":null,\\\"enable_onnx_compatible_models\\\":false,\\\"enable_split_onnx_featurizer_estimator_models\\\":false,\\\"vm_type\\\":\\\"STANDARD_D2_V2\\\",\\\"telemetry_verbosity\\\":20,\\\"send_telemetry\\\":true,\\\"enable_dnn\\\":false,\\\"scenario\\\":\\\"SDK-1.13.0\\\",\\\"environment_label\\\":null,\\\"save_mlflow\\\":false,\\\"force_text_dnn\\\":false,\\\"enable_feature_sweeping\\\":true,\\\"enable_early_stopping\\\":false,\\\"early_stopping_n_iters\\\":10,\\\"metrics\\\":null,\\\"enable_metric_confidence\\\":false,\\\"enable_ensembling\\\":true,\\\"enable_stack_ensembling\\\":true,\\\"ensemble_iterations\\\":15,\\\"enable_tf\\\":false,\\\"enable_subsampling\\\":null,\\\"subsample_seed\\\":null,\\\"enable_nimbusml\\\":false,\\\"enable_streaming\\\":false,\\\"force_streaming\\\":false,\\\"track_child_runs\\\":true,\\\"allowed_private_models\\\":[],\\\"label_column_name\\\":\\\"y\\\",\\\"weight_column_name\\\":null,\\\"cv_split_column_names\\\":null,\\\"enable_local_managed\\\":false,\\\"_local_managed_run_id\\\":null,\\\"cost_mode\\\":1,\\\"lag_length\\\":0,\\\"metric_operation\\\":\\\"maximize\\\",\\\"preprocess\\\":true}\", \"DataPrepJsonString\": \"{\\\\\\\"training_data\\\\\\\": {\\\\\\\"datasetId\\\\\\\": \\\\\\\"4652ab90-32e3-452c-9897-de8094663f45\\\\\\\"}, \\\\\\\"datasets\\\\\\\": 0}\", \"EnableSubsampling\": null, \"runTemplate\": \"AutoML\", \"azureml.runsource\": \"automl\", \"display_task_type\": \"classification\", \"dependencies_versions\": \"{\\\"azureml-widgets\\\": \\\"1.31.0\\\", \\\"azureml-train\\\": \\\"1.31.0\\\", \\\"azureml-train-restclients-hyperdrive\\\": \\\"1.31.0\\\", \\\"azureml-train-core\\\": \\\"1.31.0\\\", \\\"azureml-train-automl\\\": \\\"1.31.0\\\", \\\"azureml-train-automl-runtime\\\": \\\"1.31.0\\\", \\\"azureml-train-automl-client\\\": \\\"1.31.0\\\", \\\"azureml-tensorboard\\\": \\\"1.31.0\\\", \\\"azureml-telemetry\\\": \\\"1.31.0\\\", \\\"azureml-sdk\\\": \\\"1.31.0\\\", \\\"azureml-samples\\\": \\\"0+unknown\\\", \\\"azureml-responsibleai\\\": \\\"1.31.0\\\", \\\"azureml-pipeline\\\": \\\"1.31.0\\\", \\\"azureml-pipeline-steps\\\": \\\"1.31.0\\\", \\\"azureml-pipeline-core\\\": \\\"1.31.0\\\", \\\"azureml-opendatasets\\\": \\\"1.31.0\\\", \\\"azureml-model-management-sdk\\\": \\\"1.0.1b6.post1\\\", \\\"azureml-mlflow\\\": \\\"1.31.0\\\", \\\"azureml-interpret\\\": \\\"1.31.0\\\", \\\"azureml-explain-model\\\": \\\"1.31.0\\\", \\\"azureml-defaults\\\": \\\"1.31.0\\\", \\\"azureml-dataset-runtime\\\": \\\"1.31.0\\\", \\\"azureml-dataprep\\\": \\\"2.18.0\\\", \\\"azureml-dataprep-rslex\\\": \\\"1.16.1\\\", \\\"azureml-dataprep-native\\\": \\\"36.0.0\\\", \\\"azureml-datadrift\\\": \\\"1.31.0\\\", \\\"azureml-core\\\": \\\"1.31.0\\\", \\\"azureml-contrib-services\\\": \\\"1.31.0\\\", \\\"azureml-contrib-server\\\": \\\"1.31.0\\\", \\\"azureml-contrib-reinforcementlearning\\\": \\\"1.31.0\\\", \\\"azureml-contrib-pipeline-steps\\\": \\\"1.31.0\\\", \\\"azureml-contrib-notebook\\\": \\\"1.31.0\\\", \\\"azureml-contrib-fairness\\\": \\\"1.31.0\\\", \\\"azureml-contrib-dataset\\\": \\\"1.31.0\\\", \\\"azureml-cli-common\\\": \\\"1.31.0\\\", \\\"azureml-automl-runtime\\\": \\\"1.31.0\\\", \\\"azureml-automl-dnn-nlp\\\": \\\"1.31.0\\\", \\\"azureml-automl-core\\\": \\\"1.31.0\\\", \\\"azureml-accel-models\\\": \\\"1.31.0\\\"}\", \"_aml_system_scenario_identification\": \"Remote.Parent\", \"ClientType\": \"SDK\", \"environment_cpu_name\": \"AzureML-AutoML\", \"environment_cpu_label\": \"prod\", \"environment_gpu_name\": \"AzureML-AutoML-GPU\", \"environment_gpu_label\": \"prod\", \"root_attribution\": \"automl\", \"attribution\": \"AutoML\", \"Orchestrator\": \"AutoML\", \"CancelUri\": \"https://eastus2.api.azureml.ms/jasmine/v1.0/subscriptions/bd6c48f0-b2f5-4fd8-b4de-3351b13cbee8/resourceGroups/udacity-nano/providers/Microsoft.MachineLearningServices/workspaces/courtlin-udacity/experimentids/8d718f2f-1475-4c13-a263-f52fc7c526f5/cancel/AutoML_44de51ab-67a6-4580-9a73-07a3bb219c34\", \"ClientSdkVersion\": \"1.32.0\", \"snapshotId\": \"00000000-0000-0000-0000-000000000000\", \"SetupRunId\": \"AutoML_44de51ab-67a6-4580-9a73-07a3bb219c34_setup\", \"SetupRunContainerId\": \"dcid.AutoML_44de51ab-67a6-4580-9a73-07a3bb219c34_setup\", \"FeaturizationRunJsonPath\": \"featurizer_container.json\", \"FeaturizationRunId\": \"AutoML_44de51ab-67a6-4580-9a73-07a3bb219c34_featurize\", \"ProblemInfoJsonString\": \"{\\\"dataset_num_categorical\\\": 0, \\\"is_sparse\\\": true, \\\"subsampling\\\": false, \\\"has_extra_col\\\": true, \\\"dataset_classes\\\": 2, \\\"dataset_features\\\": 122, \\\"dataset_samples\\\": 32950, \\\"single_frequency_class_detected\\\": false}\", \"ModelExplainRunId\": \"AutoML_44de51ab-67a6-4580-9a73-07a3bb219c34_ModelExplain\"}, \"tags\": {\"model_explain_run\": \"best_run\", \"_aml_system_azureml.automlComponent\": \"AutoML\", \"pipeline_id\": \"\", \"score\": \"\", \"predicted_cost\": \"\", \"fit_time\": \"\", \"training_percent\": \"\", \"iteration\": \"\", \"run_preprocessor\": \"\", \"run_algorithm\": \"\", \"dynamic_whitelisting_iterations\": \"<25>;\", \"automl_best_child_run_id\": \"AutoML_44de51ab-67a6-4580-9a73-07a3bb219c34_29\", \"model_explain_best_run_child_id\": \"AutoML_44de51ab-67a6-4580-9a73-07a3bb219c34_29\"}, \"end_time_utc\": \"2021-07-25T06:19:39.886881Z\", \"status\": \"Completed\", \"log_files\": {}, \"log_groups\": [], \"run_duration\": \"0:46:04\", \"run_number\": \"230\", \"run_queued_details\": {\"status\": \"Completed\", \"details\": null}}, \"child_runs\": [{\"run_id\": \"AutoML_44de51ab-67a6-4580-9a73-07a3bb219c34_0\", \"run_number\": 234, \"metric\": null, \"status\": \"Completed\", \"run_type\": \"azureml.scriptrun\", \"training_percent\": \"100\", \"start_time\": \"2021-07-25T05:44:05.116462Z\", \"end_time\": \"2021-07-25T05:44:44.404471Z\", \"created_time\": \"2021-07-25T05:43:53.249552Z\", \"created_time_dt\": \"2021-07-25T05:43:53.249552Z\", \"duration\": \"0:00:51\", \"iteration\": \"0\", \"goal\": \"accuracy_max\", \"run_name\": \"MaxAbsScaler, LightGBM\", \"run_properties\": \"copy=True\", \"primary_metric\": 0.9152352, \"best_metric\": 0.9152352}, {\"run_id\": \"AutoML_44de51ab-67a6-4580-9a73-07a3bb219c34_1\", \"run_number\": 235, \"metric\": null, \"status\": \"Completed\", \"run_type\": \"azureml.scriptrun\", \"training_percent\": \"100\", \"start_time\": \"2021-07-25T05:44:58.76888Z\", \"end_time\": \"2021-07-25T05:45:44.173674Z\", \"created_time\": \"2021-07-25T05:44:44.882092Z\", \"created_time_dt\": \"2021-07-25T05:44:44.882092Z\", \"duration\": \"0:00:59\", \"iteration\": \"1\", \"goal\": \"accuracy_max\", \"run_name\": \"MaxAbsScaler, XGBoostClassifier\", \"run_properties\": \"copy=True\", \"primary_metric\": 0.91526555, \"best_metric\": 0.91526555}, {\"run_id\": \"AutoML_44de51ab-67a6-4580-9a73-07a3bb219c34_2\", \"run_number\": 236, \"metric\": null, \"status\": \"Completed\", \"run_type\": \"azureml.scriptrun\", \"training_percent\": \"100\", \"start_time\": \"2021-07-25T05:46:00.508262Z\", \"end_time\": \"2021-07-25T05:46:37.994171Z\", \"created_time\": \"2021-07-25T05:45:45.07357Z\", \"created_time_dt\": \"2021-07-25T05:45:45.07357Z\", \"duration\": \"0:00:52\", \"iteration\": \"2\", \"goal\": \"accuracy_max\", \"run_name\": \"MaxAbsScaler, RandomForest\", \"run_properties\": \"copy=True\", \"primary_metric\": 0.8908346, \"best_metric\": 0.91526555}, {\"run_id\": \"AutoML_44de51ab-67a6-4580-9a73-07a3bb219c34_3\", \"run_number\": 237, \"metric\": null, \"status\": \"Completed\", \"run_type\": \"azureml.scriptrun\", \"training_percent\": \"100\", \"start_time\": \"2021-07-25T05:46:52.544814Z\", \"end_time\": \"2021-07-25T05:47:26.887414Z\", \"created_time\": \"2021-07-25T05:46:39.311261Z\", \"created_time_dt\": \"2021-07-25T05:46:39.311261Z\", \"duration\": \"0:00:47\", \"iteration\": \"3\", \"goal\": \"accuracy_max\", \"run_name\": \"MaxAbsScaler, RandomForest\", \"run_properties\": \"copy=True\", \"primary_metric\": 0.88795144, \"best_metric\": 0.91526555}, {\"run_id\": \"AutoML_44de51ab-67a6-4580-9a73-07a3bb219c34_4\", \"run_number\": 238, \"metric\": null, \"status\": \"Completed\", \"run_type\": \"azureml.scriptrun\", \"training_percent\": \"100\", \"start_time\": \"2021-07-25T05:47:39.784117Z\", \"end_time\": \"2021-07-25T05:48:18.905804Z\", \"created_time\": \"2021-07-25T05:47:28.672049Z\", \"created_time_dt\": \"2021-07-25T05:47:28.672049Z\", \"duration\": \"0:00:50\", \"iteration\": \"4\", \"goal\": \"accuracy_max\", \"run_name\": \"MaxAbsScaler, RandomForest\", \"run_properties\": \"copy=True\", \"primary_metric\": 0.81757208, \"best_metric\": 0.91526555}, {\"run_id\": \"AutoML_44de51ab-67a6-4580-9a73-07a3bb219c34_5\", \"run_number\": 239, \"metric\": null, \"status\": \"Completed\", \"run_type\": \"azureml.scriptrun\", \"training_percent\": \"100\", \"start_time\": \"2021-07-25T05:48:31.825127Z\", \"end_time\": \"2021-07-25T05:49:08.205866Z\", \"created_time\": \"2021-07-25T05:48:20.362262Z\", \"created_time_dt\": \"2021-07-25T05:48:20.362262Z\", \"duration\": \"0:00:47\", \"iteration\": \"5\", \"goal\": \"accuracy_max\", \"run_name\": \"MaxAbsScaler, RandomForest\", \"run_properties\": \"copy=True\", \"primary_metric\": 0.77317147, \"best_metric\": 0.91526555}, {\"run_id\": \"AutoML_44de51ab-67a6-4580-9a73-07a3bb219c34_6\", \"run_number\": 240, \"metric\": null, \"status\": \"Completed\", \"run_type\": \"azureml.scriptrun\", \"training_percent\": \"100\", \"start_time\": \"2021-07-25T05:49:23.269668Z\", \"end_time\": \"2021-07-25T05:50:20.576194Z\", \"created_time\": \"2021-07-25T05:49:09.745886Z\", \"created_time_dt\": \"2021-07-25T05:49:09.745886Z\", \"duration\": \"0:01:10\", \"iteration\": \"6\", \"goal\": \"accuracy_max\", \"run_name\": \"SparseNormalizer, XGBoostClassifier\", \"run_properties\": \"copy=True, norm='l2'\", \"primary_metric\": 0.91271624, \"best_metric\": 0.91526555}, {\"run_id\": \"AutoML_44de51ab-67a6-4580-9a73-07a3bb219c34_7\", \"run_number\": 241, \"metric\": null, \"status\": \"Completed\", \"run_type\": \"azureml.scriptrun\", \"training_percent\": \"100\", \"start_time\": \"2021-07-25T05:50:33.690714Z\", \"end_time\": \"2021-07-25T05:51:21.663764Z\", \"created_time\": \"2021-07-25T05:50:21.892884Z\", \"created_time_dt\": \"2021-07-25T05:50:21.892884Z\", \"duration\": \"0:00:59\", \"iteration\": \"7\", \"goal\": \"accuracy_max\", \"run_name\": \"MaxAbsScaler, GradientBoosting\", \"run_properties\": \"copy=True\", \"primary_metric\": 0.90306525, \"best_metric\": 0.91526555}, {\"run_id\": \"AutoML_44de51ab-67a6-4580-9a73-07a3bb219c34_8\", \"run_number\": 242, \"metric\": null, \"status\": \"Completed\", \"run_type\": \"azureml.scriptrun\", \"training_percent\": \"100\", \"start_time\": \"2021-07-25T05:51:35.138415Z\", \"end_time\": \"2021-07-25T05:52:12.936518Z\", \"created_time\": \"2021-07-25T05:51:22.914072Z\", \"created_time_dt\": \"2021-07-25T05:51:22.914072Z\", \"duration\": \"0:00:50\", \"iteration\": \"8\", \"goal\": \"accuracy_max\", \"run_name\": \"StandardScalerWrapper, RandomForest\", \"run_properties\": \"\\n    copy=True,\\n    with_mean=False,\\n    with_std=True\\n\", \"primary_metric\": 0.90027314, \"best_metric\": 0.91526555}, {\"run_id\": \"AutoML_44de51ab-67a6-4580-9a73-07a3bb219c34_9\", \"run_number\": 243, \"metric\": null, \"status\": \"Completed\", \"run_type\": \"azureml.scriptrun\", \"training_percent\": \"100\", \"start_time\": \"2021-07-25T05:52:27.654347Z\", \"end_time\": \"2021-07-25T05:53:10.193917Z\", \"created_time\": \"2021-07-25T05:52:14.169525Z\", \"created_time_dt\": \"2021-07-25T05:52:14.169525Z\", \"duration\": \"0:00:56\", \"iteration\": \"9\", \"goal\": \"accuracy_max\", \"run_name\": \"MaxAbsScaler, LogisticRegression\", \"run_properties\": \"copy=True\", \"primary_metric\": 0.90831563, \"best_metric\": 0.91526555}, {\"run_id\": \"AutoML_44de51ab-67a6-4580-9a73-07a3bb219c34_10\", \"run_number\": 244, \"metric\": null, \"status\": \"Completed\", \"run_type\": \"azureml.scriptrun\", \"training_percent\": \"100\", \"start_time\": \"2021-07-25T05:53:25.032848Z\", \"end_time\": \"2021-07-25T05:55:14.06052Z\", \"created_time\": \"2021-07-25T05:53:11.467162Z\", \"created_time_dt\": \"2021-07-25T05:53:11.467162Z\", \"duration\": \"0:02:02\", \"iteration\": \"10\", \"goal\": \"accuracy_max\", \"run_name\": \"MaxAbsScaler, ExtremeRandomTrees\", \"run_properties\": \"copy=True\", \"primary_metric\": 0.88795144, \"best_metric\": 0.91526555}, {\"run_id\": \"AutoML_44de51ab-67a6-4580-9a73-07a3bb219c34_11\", \"run_number\": 245, \"metric\": null, \"status\": \"Completed\", \"run_type\": \"azureml.scriptrun\", \"training_percent\": \"100\", \"start_time\": \"2021-07-25T05:55:27.739733Z\", \"end_time\": \"2021-07-25T05:56:16.235557Z\", \"created_time\": \"2021-07-25T05:55:15.848919Z\", \"created_time_dt\": \"2021-07-25T05:55:15.848919Z\", \"duration\": \"0:01:00\", \"iteration\": \"11\", \"goal\": \"accuracy_max\", \"run_name\": \"SparseNormalizer, XGBoostClassifier\", \"run_properties\": \"copy=True, norm='max'\", \"primary_metric\": 0.91210926, \"best_metric\": 0.91526555}, {\"run_id\": \"AutoML_44de51ab-67a6-4580-9a73-07a3bb219c34_12\", \"run_number\": 246, \"metric\": null, \"status\": \"Completed\", \"run_type\": \"azureml.scriptrun\", \"training_percent\": \"100\", \"start_time\": \"2021-07-25T05:56:30.260512Z\", \"end_time\": \"2021-07-25T05:58:10.546577Z\", \"created_time\": \"2021-07-25T05:56:17.589329Z\", \"created_time_dt\": \"2021-07-25T05:56:17.589329Z\", \"duration\": \"0:01:52\", \"iteration\": \"12\", \"goal\": \"accuracy_max\", \"run_name\": \"MaxAbsScaler, LightGBM\", \"run_properties\": \"copy=True\", \"primary_metric\": 0.89122914, \"best_metric\": 0.91526555}, {\"run_id\": \"AutoML_44de51ab-67a6-4580-9a73-07a3bb219c34_13\", \"run_number\": 247, \"metric\": null, \"status\": \"Completed\", \"run_type\": \"azureml.scriptrun\", \"training_percent\": \"100\", \"start_time\": \"2021-07-25T05:58:21.006586Z\", \"end_time\": \"2021-07-25T05:58:56.873201Z\", \"created_time\": \"2021-07-25T05:58:11.87615Z\", \"created_time_dt\": \"2021-07-25T05:58:11.87615Z\", \"duration\": \"0:00:44\", \"iteration\": \"13\", \"goal\": \"accuracy_max\", \"run_name\": \"StandardScalerWrapper, LightGBM\", \"run_properties\": \"\\n    copy=True,\\n    with_mean=False,\\n    with_std=True\\n\", \"primary_metric\": 0.88795144, \"best_metric\": 0.91526555}, {\"run_id\": \"AutoML_44de51ab-67a6-4580-9a73-07a3bb219c34_14\", \"run_number\": 248, \"metric\": null, \"status\": \"Completed\", \"run_type\": \"azureml.scriptrun\", \"training_percent\": \"100\", \"start_time\": \"2021-07-25T05:59:05.84548Z\", \"end_time\": \"2021-07-25T06:00:54.266939Z\", \"created_time\": \"2021-07-25T05:58:58.700417Z\", \"created_time_dt\": \"2021-07-25T05:58:58.700417Z\", \"duration\": \"0:01:55\", \"iteration\": \"14\", \"goal\": \"accuracy_max\", \"run_name\": \"SparseNormalizer, XGBoostClassifier\", \"run_properties\": \"copy=True, norm='l2'\", \"primary_metric\": 0.91368741, \"best_metric\": 0.91526555}, {\"run_id\": \"AutoML_44de51ab-67a6-4580-9a73-07a3bb219c34_15\", \"run_number\": 249, \"metric\": null, \"status\": \"Completed\", \"run_type\": \"azureml.scriptrun\", \"training_percent\": \"100\", \"start_time\": \"2021-07-25T06:01:03.449019Z\", \"end_time\": \"2021-07-25T06:01:52.580458Z\", \"created_time\": \"2021-07-25T06:00:55.534031Z\", \"created_time_dt\": \"2021-07-25T06:00:55.534031Z\", \"duration\": \"0:00:57\", \"iteration\": \"15\", \"goal\": \"accuracy_max\", \"run_name\": \"StandardScalerWrapper, ExtremeRandomTrees\", \"run_properties\": \"\\n    copy=True,\\n    with_mean=False,\\n    with_std=True\\n\", \"primary_metric\": 0.88795144, \"best_metric\": 0.91526555}, {\"run_id\": \"AutoML_44de51ab-67a6-4580-9a73-07a3bb219c34_16\", \"run_number\": 250, \"metric\": null, \"status\": \"Completed\", \"run_type\": \"azureml.scriptrun\", \"training_percent\": \"100\", \"start_time\": \"2021-07-25T06:02:00.955181Z\", \"end_time\": \"2021-07-25T06:02:38.900736Z\", \"created_time\": \"2021-07-25T06:01:53.831761Z\", \"created_time_dt\": \"2021-07-25T06:01:53.831761Z\", \"duration\": \"0:00:45\", \"iteration\": \"16\", \"goal\": \"accuracy_max\", \"run_name\": \"StandardScalerWrapper, LightGBM\", \"run_properties\": \"\\n    copy=True,\\n    with_mean=False,\\n    with_std=False\\n\", \"primary_metric\": 0.88795144, \"best_metric\": 0.91526555}, {\"run_id\": \"AutoML_44de51ab-67a6-4580-9a73-07a3bb219c34_17\", \"run_number\": 251, \"metric\": null, \"status\": \"Completed\", \"run_type\": \"azureml.scriptrun\", \"training_percent\": \"100\", \"start_time\": \"2021-07-25T06:02:48.977618Z\", \"end_time\": \"2021-07-25T06:03:38.643576Z\", \"created_time\": \"2021-07-25T06:02:40.073977Z\", \"created_time_dt\": \"2021-07-25T06:02:40.073977Z\", \"duration\": \"0:00:58\", \"iteration\": \"17\", \"goal\": \"accuracy_max\", \"run_name\": \"MaxAbsScaler, LightGBM\", \"run_properties\": \"copy=True\", \"primary_metric\": 0.90485584, \"best_metric\": 0.91526555}, {\"run_id\": \"AutoML_44de51ab-67a6-4580-9a73-07a3bb219c34_18\", \"run_number\": 252, \"metric\": null, \"status\": \"Completed\", \"run_type\": \"azureml.scriptrun\", \"training_percent\": \"100\", \"start_time\": \"2021-07-25T06:03:46.765556Z\", \"end_time\": \"2021-07-25T06:04:35.70211Z\", \"created_time\": \"2021-07-25T06:03:39.777437Z\", \"created_time_dt\": \"2021-07-25T06:03:39.777437Z\", \"duration\": \"0:00:55\", \"iteration\": \"18\", \"goal\": \"accuracy_max\", \"run_name\": \"StandardScalerWrapper, LightGBM\", \"run_properties\": \"\\n    copy=True,\\n    with_mean=False,\\n    with_std=True\\n\", \"primary_metric\": 0.90491654, \"best_metric\": 0.91526555}, {\"run_id\": \"AutoML_44de51ab-67a6-4580-9a73-07a3bb219c34_19\", \"run_number\": 253, \"metric\": null, \"status\": \"Completed\", \"run_type\": \"azureml.scriptrun\", \"training_percent\": \"100\", \"start_time\": \"2021-07-25T06:04:46.114234Z\", \"end_time\": \"2021-07-25T06:05:32.919442Z\", \"created_time\": \"2021-07-25T06:04:37.095853Z\", \"created_time_dt\": \"2021-07-25T06:04:37.095853Z\", \"duration\": \"0:00:55\", \"iteration\": \"19\", \"goal\": \"accuracy_max\", \"run_name\": \"SparseNormalizer, LightGBM\", \"run_properties\": \"copy=True, norm='l1'\", \"primary_metric\": 0.91453718, \"best_metric\": 0.91526555}, {\"run_id\": \"AutoML_44de51ab-67a6-4580-9a73-07a3bb219c34_20\", \"run_number\": 254, \"metric\": null, \"status\": \"Completed\", \"run_type\": \"azureml.scriptrun\", \"training_percent\": \"100\", \"start_time\": \"2021-07-25T06:05:43.846836Z\", \"end_time\": \"2021-07-25T06:06:30.775048Z\", \"created_time\": \"2021-07-25T06:05:34.179324Z\", \"created_time_dt\": \"2021-07-25T06:05:34.179324Z\", \"duration\": \"0:00:56\", \"iteration\": \"20\", \"goal\": \"accuracy_max\", \"run_name\": \"SparseNormalizer, XGBoostClassifier\", \"run_properties\": \"copy=True, norm='l2'\", \"primary_metric\": 0.9123217, \"best_metric\": 0.91526555}, {\"run_id\": \"AutoML_44de51ab-67a6-4580-9a73-07a3bb219c34_21\", \"run_number\": 255, \"metric\": null, \"status\": \"Completed\", \"run_type\": \"azureml.scriptrun\", \"training_percent\": \"100\", \"start_time\": \"2021-07-25T06:06:39.283363Z\", \"end_time\": \"2021-07-25T06:07:17.251692Z\", \"created_time\": \"2021-07-25T06:06:32.304114Z\", \"created_time_dt\": \"2021-07-25T06:06:32.304114Z\", \"duration\": \"0:00:44\", \"iteration\": \"21\", \"goal\": \"accuracy_max\", \"run_name\": \"MaxAbsScaler, LightGBM\", \"run_properties\": \"copy=True\", \"primary_metric\": 0.90640364, \"best_metric\": 0.91526555}, {\"run_id\": \"AutoML_44de51ab-67a6-4580-9a73-07a3bb219c34_22\", \"run_number\": 256, \"metric\": null, \"status\": \"Completed\", \"run_type\": \"azureml.scriptrun\", \"training_percent\": \"100\", \"start_time\": \"2021-07-25T06:07:25.310646Z\", \"end_time\": \"2021-07-25T06:08:05.860795Z\", \"created_time\": \"2021-07-25T06:07:18.452648Z\", \"created_time_dt\": \"2021-07-25T06:07:18.452648Z\", \"duration\": \"0:00:47\", \"iteration\": \"22\", \"goal\": \"accuracy_max\", \"run_name\": \"MaxAbsScaler, LightGBM\", \"run_properties\": \"copy=True\", \"primary_metric\": 0.91034901, \"best_metric\": 0.91526555}, {\"run_id\": \"AutoML_44de51ab-67a6-4580-9a73-07a3bb219c34_23\", \"run_number\": 257, \"metric\": null, \"status\": \"Completed\", \"run_type\": \"azureml.scriptrun\", \"training_percent\": \"100\", \"start_time\": \"2021-07-25T06:08:15.780748Z\", \"end_time\": \"2021-07-25T06:08:48.678731Z\", \"created_time\": \"2021-07-25T06:08:07.35436Z\", \"created_time_dt\": \"2021-07-25T06:08:07.35436Z\", \"duration\": \"0:00:41\", \"iteration\": \"23\", \"goal\": \"accuracy_max\", \"run_name\": \"StandardScalerWrapper, LightGBM\", \"run_properties\": \"\\n    copy=True,\\n    with_mean=False,\\n    with_std=False\\n\", \"primary_metric\": 0.89241275, \"best_metric\": 0.91526555}, {\"run_id\": \"AutoML_44de51ab-67a6-4580-9a73-07a3bb219c34_24\", \"run_number\": 258, \"metric\": null, \"status\": \"Completed\", \"run_type\": \"azureml.scriptrun\", \"training_percent\": \"100\", \"start_time\": \"2021-07-25T06:08:57.781249Z\", \"end_time\": \"2021-07-25T06:09:49.555674Z\", \"created_time\": \"2021-07-25T06:08:50.228339Z\", \"created_time_dt\": \"2021-07-25T06:08:50.228339Z\", \"duration\": \"0:00:59\", \"iteration\": \"24\", \"goal\": \"accuracy_max\", \"run_name\": \"StandardScalerWrapper, LightGBM\", \"run_properties\": \"\\n    copy=True,\\n    with_mean=False,\\n    with_std=True\\n\", \"primary_metric\": 0.90861912, \"best_metric\": 0.91526555}, {\"run_id\": \"AutoML_44de51ab-67a6-4580-9a73-07a3bb219c34_25\", \"run_number\": 259, \"metric\": null, \"status\": \"Completed\", \"run_type\": \"azureml.scriptrun\", \"training_percent\": \"100\", \"start_time\": \"2021-07-25T06:10:00.731847Z\", \"end_time\": \"2021-07-25T06:10:39.341849Z\", \"created_time\": \"2021-07-25T06:09:51.530377Z\", \"created_time_dt\": \"2021-07-25T06:09:51.530377Z\", \"duration\": \"0:00:47\", \"iteration\": \"25\", \"goal\": \"accuracy_max\", \"run_name\": \"SparseNormalizer, XGBoostClassifier\", \"run_properties\": \"copy=True, norm='l1'\", \"primary_metric\": 0.88795144, \"best_metric\": 0.91526555}, {\"run_id\": \"AutoML_44de51ab-67a6-4580-9a73-07a3bb219c34_26\", \"run_number\": 260, \"metric\": null, \"status\": \"Completed\", \"run_type\": \"azureml.scriptrun\", \"training_percent\": \"100\", \"start_time\": \"2021-07-25T06:10:47.59556Z\", \"end_time\": \"2021-07-25T06:11:25.523486Z\", \"created_time\": \"2021-07-25T06:10:40.542373Z\", \"created_time_dt\": \"2021-07-25T06:10:40.542373Z\", \"duration\": \"0:00:44\", \"iteration\": \"26\", \"goal\": \"accuracy_max\", \"run_name\": \"StandardScalerWrapper, LightGBM\", \"run_properties\": \"\\n    copy=True,\\n    with_mean=False,\\n    with_std=True\\n\", \"primary_metric\": 0.91338392, \"best_metric\": 0.91526555}, {\"run_id\": \"AutoML_44de51ab-67a6-4580-9a73-07a3bb219c34_27\", \"run_number\": 261, \"metric\": null, \"status\": \"Completed\", \"run_type\": \"azureml.scriptrun\", \"training_percent\": \"100\", \"start_time\": \"2021-07-25T06:11:35.232079Z\", \"end_time\": \"2021-07-25T06:12:13.198197Z\", \"created_time\": \"2021-07-25T06:11:27.816165Z\", \"created_time_dt\": \"2021-07-25T06:11:27.816165Z\", \"duration\": \"0:00:45\", \"iteration\": \"27\", \"goal\": \"accuracy_max\", \"run_name\": \"SparseNormalizer, LightGBM\", \"run_properties\": \"copy=True, norm='l1'\", \"primary_metric\": 0.91132018, \"best_metric\": 0.91526555}, {\"run_id\": \"AutoML_44de51ab-67a6-4580-9a73-07a3bb219c34_28\", \"run_number\": 262, \"metric\": null, \"status\": \"Completed\", \"run_type\": \"azureml.scriptrun\", \"training_percent\": \"100\", \"start_time\": \"2021-07-25T06:12:22.642258Z\", \"end_time\": \"2021-07-25T06:17:11.470843Z\", \"created_time\": \"2021-07-25T06:12:14.571384Z\", \"created_time_dt\": \"2021-07-25T06:12:14.571384Z\", \"duration\": \"0:04:56\", \"iteration\": \"28\", \"goal\": \"accuracy_max\", \"run_name\": \"SparseNormalizer, XGBoostClassifier\", \"run_properties\": \"copy=True, norm='l2'\", \"primary_metric\": 0.91122914, \"best_metric\": 0.91526555}, {\"run_id\": \"AutoML_44de51ab-67a6-4580-9a73-07a3bb219c34_29\", \"run_number\": 263, \"metric\": null, \"status\": \"Completed\", \"run_type\": \"azureml.scriptrun\", \"training_percent\": \"100\", \"start_time\": \"2021-07-25T06:17:20.116024Z\", \"end_time\": \"2021-07-25T06:18:17.892244Z\", \"created_time\": \"2021-07-25T06:17:12.107473Z\", \"created_time_dt\": \"2021-07-25T06:17:12.107473Z\", \"duration\": \"0:01:05\", \"iteration\": \"29\", \"goal\": \"accuracy_max\", \"run_name\": \"VotingEnsemble\", \"run_properties\": \"\\n    estimators=[('1', Pipeline(memory=None,\\n             steps=[('maxabsscaler', MaxAbsScaler(copy=True\", \"primary_metric\": 0.91657056, \"best_metric\": 0.91657056}, {\"run_id\": \"AutoML_44de51ab-67a6-4580-9a73-07a3bb219c34_30\", \"run_number\": 264, \"metric\": null, \"status\": \"Completed\", \"run_type\": \"azureml.scriptrun\", \"training_percent\": \"100\", \"start_time\": \"2021-07-25T06:18:27.415288Z\", \"end_time\": \"2021-07-25T06:19:38.744003Z\", \"created_time\": \"2021-07-25T06:18:18.459969Z\", \"created_time_dt\": \"2021-07-25T06:18:18.459969Z\", \"duration\": \"0:01:20\", \"iteration\": \"30\", \"goal\": \"accuracy_max\", \"run_name\": \"StackEnsemble\", \"run_properties\": \"\\n    base_learners=[('1', Pipeline(memory=None,\\n             steps=[('maxabsscaler', MaxAbsScaler(copy=True\", \"primary_metric\": 0.91593323, \"best_metric\": 0.91657056}], \"children_metrics\": {\"categories\": [0], \"series\": {\"log_loss\": [{\"categories\": [\"0\", \"1\", \"2\", \"3\", \"4\", \"5\", \"6\", \"7\", \"8\", \"9\", \"10\", \"11\", \"12\", \"13\", \"14\", \"15\", \"16\", \"17\", \"18\", \"19\", \"20\", \"21\", \"22\", \"23\", \"24\", \"25\", \"26\", \"27\", \"28\", \"29\", \"30\"], \"mode\": \"markers\", \"name\": \"log_loss\", \"stepped\": false, \"type\": \"scatter\", \"data\": [0.17232426816717059, 0.17635597636401062, 0.2437900415748953, 0.2695540783654467, 0.5011898518702879, 0.5002735391496406, 0.2006755906546779, 0.20457747130166495, 0.21252421945133335, 0.21204007465117614, 0.27287623678872397, 0.2029863535079742, 0.23565926436185541, 0.2560043771147787, 0.17707983931221535, 0.280023772259447, 0.26131221780894853, 0.20286570302251042, 0.20594769668138796, 0.17823553838629425, 0.1843697536168904, 0.1881889564721843, 0.18891250441979623, 0.2423934645887141, 0.18142320807444673, 0.3508093222063273, 0.18281492390923754, 0.18579270172830642, 0.182174060990051, 0.17429361106318703, 0.19216033760171225]}, {\"categories\": [\"0\", \"1\", \"2\", \"3\", \"4\", \"5\", \"6\", \"7\", \"8\", \"9\", \"10\", \"11\", \"12\", \"13\", \"14\", \"15\", \"16\", \"17\", \"18\", \"19\", \"20\", \"21\", \"22\", \"23\", \"24\", \"25\", \"26\", \"27\", \"28\", \"29\", \"30\"], \"mode\": \"lines\", \"name\": \"log_loss_min\", \"stepped\": true, \"type\": \"scatter\", \"data\": [0.17232426816717059, 0.17232426816717059, 0.17232426816717059, 0.17232426816717059, 0.17232426816717059, 0.17232426816717059, 0.17232426816717059, 0.17232426816717059, 0.17232426816717059, 0.17232426816717059, 0.17232426816717059, 0.17232426816717059, 0.17232426816717059, 0.17232426816717059, 0.17232426816717059, 0.17232426816717059, 0.17232426816717059, 0.17232426816717059, 0.17232426816717059, 0.17232426816717059, 0.17232426816717059, 0.17232426816717059, 0.17232426816717059, 0.17232426816717059, 0.17232426816717059, 0.17232426816717059, 0.17232426816717059, 0.17232426816717059, 0.17232426816717059, 0.17232426816717059, 0.17232426816717059]}], \"matthews_correlation\": [{\"categories\": [\"0\", \"1\", \"2\", \"3\", \"4\", \"5\", \"6\", \"7\", \"8\", \"9\", \"10\", \"11\", \"12\", \"13\", \"14\", \"15\", \"16\", \"17\", \"18\", \"19\", \"20\", \"21\", \"22\", \"23\", \"24\", \"25\", \"26\", \"27\", \"28\", \"29\", \"30\"], \"mode\": \"markers\", \"name\": \"matthews_correlation\", \"stepped\": false, \"type\": \"scatter\", \"data\": [0.5450606360276561, 0.5313451818916757, 0.14905055098696013, 0.0, 0.4223465297336295, 0.3876479237018511, 0.5296603593837488, 0.38252984835544185, 0.3190556942558584, 0.459401629497412, 0.0, 0.5179505554678243, 0.16779734118470918, 0.0, 0.5335758838064071, 0.0, 0.0, 0.43989947596646595, 0.4082003539526148, 0.54275462274271, 0.49974942577879167, 0.46609328408688067, 0.5105127263616351, 0.19802899286023884, 0.4843844444996551, 0.0, 0.508376301004666, 0.5116473414412719, 0.5186326268904914, 0.5446582668412878, 0.54452222081151]}, {\"categories\": [\"0\", \"1\", \"2\", \"3\", \"4\", \"5\", \"6\", \"7\", \"8\", \"9\", \"10\", \"11\", \"12\", \"13\", \"14\", \"15\", \"16\", \"17\", \"18\", \"19\", \"20\", \"21\", \"22\", \"23\", \"24\", \"25\", \"26\", \"27\", \"28\", \"29\", \"30\"], \"mode\": \"lines\", \"name\": \"matthews_correlation_max\", \"stepped\": true, \"type\": \"scatter\", \"data\": [0.5450606360276561, 0.5450606360276561, 0.5450606360276561, 0.5450606360276561, 0.5450606360276561, 0.5450606360276561, 0.5450606360276561, 0.5450606360276561, 0.5450606360276561, 0.5450606360276561, 0.5450606360276561, 0.5450606360276561, 0.5450606360276561, 0.5450606360276561, 0.5450606360276561, 0.5450606360276561, 0.5450606360276561, 0.5450606360276561, 0.5450606360276561, 0.5450606360276561, 0.5450606360276561, 0.5450606360276561, 0.5450606360276561, 0.5450606360276561, 0.5450606360276561, 0.5450606360276561, 0.5450606360276561, 0.5450606360276561, 0.5450606360276561, 0.5450606360276561, 0.5450606360276561]}], \"f1_score_weighted\": [{\"categories\": [\"0\", \"1\", \"2\", \"3\", \"4\", \"5\", \"6\", \"7\", \"8\", \"9\", \"10\", \"11\", \"12\", \"13\", \"14\", \"15\", \"16\", \"17\", \"18\", \"19\", \"20\", \"21\", \"22\", \"23\", \"24\", \"25\", \"26\", \"27\", \"28\", \"29\", \"30\"], \"mode\": \"markers\", \"name\": \"f1_score_weighted\", \"stepped\": false, \"type\": \"scatter\", \"data\": [0.9120307526001395, 0.9102559197182545, 0.8445870856580651, 0.8352532264037464, 0.8432228577738226, 0.810743083254204, 0.9091933239757021, 0.8841502799414936, 0.8696753569736323, 0.8980204747911029, 0.8352532264037464, 0.907505055803029, 0.8469041302121181, 0.8352532264037464, 0.9100273131672261, 0.8352532264037464, 0.8352532264037464, 0.8945733054702538, 0.8888988249955577, 0.9114898501964482, 0.9049475752551144, 0.8988161802491742, 0.9059365872183933, 0.8512321936520445, 0.9019564108997692, 0.8352532264037464, 0.9064644045478873, 0.9064056348094551, 0.907285505051442, 0.9124317373411948, 0.9121889697773389]}, {\"categories\": [\"0\", \"1\", \"2\", \"3\", \"4\", \"5\", \"6\", \"7\", \"8\", \"9\", \"10\", \"11\", \"12\", \"13\", \"14\", \"15\", \"16\", \"17\", \"18\", \"19\", \"20\", \"21\", \"22\", \"23\", \"24\", \"25\", \"26\", \"27\", \"28\", \"29\", \"30\"], \"mode\": \"lines\", \"name\": \"f1_score_weighted_max\", \"stepped\": true, \"type\": \"scatter\", \"data\": [0.9120307526001395, 0.9120307526001395, 0.9120307526001395, 0.9120307526001395, 0.9120307526001395, 0.9120307526001395, 0.9120307526001395, 0.9120307526001395, 0.9120307526001395, 0.9120307526001395, 0.9120307526001395, 0.9120307526001395, 0.9120307526001395, 0.9120307526001395, 0.9120307526001395, 0.9120307526001395, 0.9120307526001395, 0.9120307526001395, 0.9120307526001395, 0.9120307526001395, 0.9120307526001395, 0.9120307526001395, 0.9120307526001395, 0.9120307526001395, 0.9120307526001395, 0.9120307526001395, 0.9120307526001395, 0.9120307526001395, 0.9120307526001395, 0.9124317373411948, 0.9124317373411948]}], \"AUC_weighted\": [{\"categories\": [\"0\", \"1\", \"2\", \"3\", \"4\", \"5\", \"6\", \"7\", \"8\", \"9\", \"10\", \"11\", \"12\", \"13\", \"14\", \"15\", \"16\", \"17\", \"18\", \"19\", \"20\", \"21\", \"22\", \"23\", \"24\", \"25\", \"26\", \"27\", \"28\", \"29\", \"30\"], \"mode\": \"markers\", \"name\": \"AUC_weighted\", \"stepped\": false, \"type\": \"scatter\", \"data\": [0.9492247126912634, 0.9472802247155014, 0.9030501014539917, 0.87645329860522, 0.8882105670511521, 0.880829385270421, 0.9448247358204089, 0.9287218723903304, 0.9235460964731962, 0.9301933212095566, 0.8584237402143178, 0.944961398488713, 0.9269429830049531, 0.9246854983576073, 0.9466772627320859, 0.842545363943397, 0.9298207279422825, 0.9283880670116573, 0.9319837288853053, 0.9447116599742216, 0.9422002024178695, 0.937645115132999, 0.9378733780744717, 0.915780364169484, 0.9429351311156393, 0.5, 0.9438951399737207, 0.9397246134795344, 0.944787332016424, 0.9494806165494815, 0.9493792714951974]}, {\"categories\": [\"0\", \"1\", \"2\", \"3\", \"4\", \"5\", \"6\", \"7\", \"8\", \"9\", \"10\", \"11\", \"12\", \"13\", \"14\", \"15\", \"16\", \"17\", \"18\", \"19\", \"20\", \"21\", \"22\", \"23\", \"24\", \"25\", \"26\", \"27\", \"28\", \"29\", \"30\"], \"mode\": \"lines\", \"name\": \"AUC_weighted_max\", \"stepped\": true, \"type\": \"scatter\", \"data\": [0.9492247126912634, 0.9492247126912634, 0.9492247126912634, 0.9492247126912634, 0.9492247126912634, 0.9492247126912634, 0.9492247126912634, 0.9492247126912634, 0.9492247126912634, 0.9492247126912634, 0.9492247126912634, 0.9492247126912634, 0.9492247126912634, 0.9492247126912634, 0.9492247126912634, 0.9492247126912634, 0.9492247126912634, 0.9492247126912634, 0.9492247126912634, 0.9492247126912634, 0.9492247126912634, 0.9492247126912634, 0.9492247126912634, 0.9492247126912634, 0.9492247126912634, 0.9492247126912634, 0.9492247126912634, 0.9492247126912634, 0.9492247126912634, 0.9494806165494815, 0.9494806165494815]}], \"accuracy\": [{\"categories\": [\"0\", \"1\", \"2\", \"3\", \"4\", \"5\", \"6\", \"7\", \"8\", \"9\", \"10\", \"11\", \"12\", \"13\", \"14\", \"15\", \"16\", \"17\", \"18\", \"19\", \"20\", \"21\", \"22\", \"23\", \"24\", \"25\", \"26\", \"27\", \"28\", \"29\", \"30\"], \"mode\": \"markers\", \"name\": \"accuracy\", \"stepped\": false, \"type\": \"scatter\", \"data\": [0.9152352048558422, 0.9152655538694991, 0.8908345978755688, 0.8879514415781486, 0.8175720789074357, 0.7731714719271623, 0.9127162367223065, 0.9030652503793626, 0.9002731411229135, 0.9083156297420334, 0.8879514415781486, 0.9121092564491654, 0.8912291350531107, 0.8879514415781486, 0.9136874051593324, 0.8879514415781486, 0.8879514415781486, 0.9048558421851289, 0.9049165402124432, 0.9145371775417299, 0.9123216995447647, 0.9064036418816389, 0.9103490136570562, 0.892412746585736, 0.908619119878604, 0.8879514415781486, 0.9133839150227618, 0.9113201820940819, 0.9112291350531109, 0.9165705614567526, 0.9159332321699545]}, {\"categories\": [\"0\", \"1\", \"2\", \"3\", \"4\", \"5\", \"6\", \"7\", \"8\", \"9\", \"10\", \"11\", \"12\", \"13\", \"14\", \"15\", \"16\", \"17\", \"18\", \"19\", \"20\", \"21\", \"22\", \"23\", \"24\", \"25\", \"26\", \"27\", \"28\", \"29\", \"30\"], \"mode\": \"lines\", \"name\": \"accuracy_max\", \"stepped\": true, \"type\": \"scatter\", \"data\": [0.9152352048558422, 0.9152655538694991, 0.9152655538694991, 0.9152655538694991, 0.9152655538694991, 0.9152655538694991, 0.9152655538694991, 0.9152655538694991, 0.9152655538694991, 0.9152655538694991, 0.9152655538694991, 0.9152655538694991, 0.9152655538694991, 0.9152655538694991, 0.9152655538694991, 0.9152655538694991, 0.9152655538694991, 0.9152655538694991, 0.9152655538694991, 0.9152655538694991, 0.9152655538694991, 0.9152655538694991, 0.9152655538694991, 0.9152655538694991, 0.9152655538694991, 0.9152655538694991, 0.9152655538694991, 0.9152655538694991, 0.9152655538694991, 0.9165705614567526, 0.9165705614567526]}], \"f1_score_macro\": [{\"categories\": [\"0\", \"1\", \"2\", \"3\", \"4\", \"5\", \"6\", \"7\", \"8\", \"9\", \"10\", \"11\", \"12\", \"13\", \"14\", \"15\", \"16\", \"17\", \"18\", \"19\", \"20\", \"21\", \"22\", \"23\", \"24\", \"25\", \"26\", \"27\", \"28\", \"29\", \"30\"], \"mode\": \"markers\", \"name\": \"f1_score_macro\", \"stepped\": false, \"type\": \"scatter\", \"data\": [0.7710337636457548, 0.7622172578628404, 0.5071077793402754, 0.4703248283762755, 0.6832200414609565, 0.6481741400797928, 0.7631434649407545, 0.665024920356338, 0.6036517028551966, 0.7192604125174774, 0.4703248283762755, 0.7563208659717043, 0.5171255196965191, 0.4703248283762755, 0.7649275681816292, 0.4703248283762755, 0.4703248283762755, 0.7104993330166283, 0.6833823972067499, 0.7700712936388378, 0.7434560062448654, 0.7273478950461737, 0.7527897459603217, 0.5345850818959735, 0.737429106160374, 0.4703248283762755, 0.7482394842629733, 0.752805710314054, 0.7573796264756594, 0.7697995294228905, 0.770136862177304]}, {\"categories\": [\"0\", \"1\", \"2\", \"3\", \"4\", \"5\", \"6\", \"7\", \"8\", \"9\", \"10\", \"11\", \"12\", \"13\", \"14\", \"15\", \"16\", \"17\", \"18\", \"19\", \"20\", \"21\", \"22\", \"23\", \"24\", \"25\", \"26\", \"27\", \"28\", \"29\", \"30\"], \"mode\": \"lines\", \"name\": \"f1_score_macro_max\", \"stepped\": true, \"type\": \"scatter\", \"data\": [0.7710337636457548, 0.7710337636457548, 0.7710337636457548, 0.7710337636457548, 0.7710337636457548, 0.7710337636457548, 0.7710337636457548, 0.7710337636457548, 0.7710337636457548, 0.7710337636457548, 0.7710337636457548, 0.7710337636457548, 0.7710337636457548, 0.7710337636457548, 0.7710337636457548, 0.7710337636457548, 0.7710337636457548, 0.7710337636457548, 0.7710337636457548, 0.7710337636457548, 0.7710337636457548, 0.7710337636457548, 0.7710337636457548, 0.7710337636457548, 0.7710337636457548, 0.7710337636457548, 0.7710337636457548, 0.7710337636457548, 0.7710337636457548, 0.7710337636457548, 0.7710337636457548]}], \"precision_score_weighted\": [{\"categories\": [\"0\", \"1\", \"2\", \"3\", \"4\", \"5\", \"6\", \"7\", \"8\", \"9\", \"10\", \"11\", \"12\", \"13\", \"14\", \"15\", \"16\", \"17\", \"18\", \"19\", \"20\", \"21\", \"22\", \"23\", \"24\", \"25\", \"26\", \"27\", \"28\", \"29\", \"30\"], \"mode\": \"markers\", \"name\": \"precision_score_weighted\", \"stepped\": false, \"type\": \"scatter\", \"data\": [0.9100158523291766, 0.9079907158179656, 0.8812145586389984, 0.7884613418500925, 0.8936289180846201, 0.8916096624280533, 0.9070144479891074, 0.8866477285748026, 0.8886748325936427, 0.8960656707857059, 0.7884613418500925, 0.9050124209086416, 0.8724628843248702, 0.7884613418500925, 0.9078459013777543, 0.7884613418500925, 0.7884613418500925, 0.891818791311995, 0.889615853867296, 0.9094798976225054, 0.9026845976912969, 0.895750928475756, 0.9034825484552357, 0.8731439982921539, 0.899076215734987, 0.7884613418500925, 0.904273620978785, 0.903890900135582, 0.9048823466845961, 0.9103040032505966, 0.9101336521739501]}, {\"categories\": [\"0\", \"1\", \"2\", \"3\", \"4\", \"5\", \"6\", \"7\", \"8\", \"9\", \"10\", \"11\", \"12\", \"13\", \"14\", \"15\", \"16\", \"17\", \"18\", \"19\", \"20\", \"21\", \"22\", \"23\", \"24\", \"25\", \"26\", \"27\", \"28\", \"29\", \"30\"], \"mode\": \"lines\", \"name\": \"precision_score_weighted_max\", \"stepped\": true, \"type\": \"scatter\", \"data\": [0.9100158523291766, 0.9100158523291766, 0.9100158523291766, 0.9100158523291766, 0.9100158523291766, 0.9100158523291766, 0.9100158523291766, 0.9100158523291766, 0.9100158523291766, 0.9100158523291766, 0.9100158523291766, 0.9100158523291766, 0.9100158523291766, 0.9100158523291766, 0.9100158523291766, 0.9100158523291766, 0.9100158523291766, 0.9100158523291766, 0.9100158523291766, 0.9100158523291766, 0.9100158523291766, 0.9100158523291766, 0.9100158523291766, 0.9100158523291766, 0.9100158523291766, 0.9100158523291766, 0.9100158523291766, 0.9100158523291766, 0.9100158523291766, 0.9103040032505966, 0.9103040032505966]}], \"f1_score_micro\": [{\"categories\": [\"0\", \"1\", \"2\", \"3\", \"4\", \"5\", \"6\", \"7\", \"8\", \"9\", \"10\", \"11\", \"12\", \"13\", \"14\", \"15\", \"16\", \"17\", \"18\", \"19\", \"20\", \"21\", \"22\", \"23\", \"24\", \"25\", \"26\", \"27\", \"28\", \"29\", \"30\"], \"mode\": \"markers\", \"name\": \"f1_score_micro\", \"stepped\": false, \"type\": \"scatter\", \"data\": [0.9152352048558422, 0.9152655538694991, 0.8908345978755691, 0.8879514415781486, 0.8175720789074357, 0.7731714719271624, 0.9127162367223065, 0.9030652503793626, 0.9002731411229137, 0.9083156297420334, 0.8879514415781486, 0.9121092564491654, 0.8912291350531107, 0.8879514415781486, 0.9136874051593324, 0.8879514415781486, 0.8879514415781486, 0.9048558421851289, 0.9049165402124432, 0.9145371775417299, 0.9123216995447647, 0.9064036418816389, 0.910349013657056, 0.892412746585736, 0.908619119878604, 0.8879514415781486, 0.9133839150227618, 0.9113201820940819, 0.9112291350531109, 0.9165705614567526, 0.9159332321699545]}, {\"categories\": [\"0\", \"1\", \"2\", \"3\", \"4\", \"5\", \"6\", \"7\", \"8\", \"9\", \"10\", \"11\", \"12\", \"13\", \"14\", \"15\", \"16\", \"17\", \"18\", \"19\", \"20\", \"21\", \"22\", \"23\", \"24\", \"25\", \"26\", \"27\", \"28\", \"29\", \"30\"], \"mode\": \"lines\", \"name\": \"f1_score_micro_max\", \"stepped\": true, \"type\": \"scatter\", \"data\": [0.9152352048558422, 0.9152655538694991, 0.9152655538694991, 0.9152655538694991, 0.9152655538694991, 0.9152655538694991, 0.9152655538694991, 0.9152655538694991, 0.9152655538694991, 0.9152655538694991, 0.9152655538694991, 0.9152655538694991, 0.9152655538694991, 0.9152655538694991, 0.9152655538694991, 0.9152655538694991, 0.9152655538694991, 0.9152655538694991, 0.9152655538694991, 0.9152655538694991, 0.9152655538694991, 0.9152655538694991, 0.9152655538694991, 0.9152655538694991, 0.9152655538694991, 0.9152655538694991, 0.9152655538694991, 0.9152655538694991, 0.9152655538694991, 0.9165705614567526, 0.9165705614567526]}], \"balanced_accuracy\": [{\"categories\": [\"0\", \"1\", \"2\", \"3\", \"4\", \"5\", \"6\", \"7\", \"8\", \"9\", \"10\", \"11\", \"12\", \"13\", \"14\", \"15\", \"16\", \"17\", \"18\", \"19\", \"20\", \"21\", \"22\", \"23\", \"24\", \"25\", \"26\", \"27\", \"28\", \"29\", \"30\"], \"mode\": \"markers\", \"name\": \"balanced_accuracy\", \"stepped\": false, \"type\": \"scatter\", \"data\": [0.7525962454771437, 0.7357377031134348, 0.5186564806367789, 0.5, 0.7838089264105591, 0.7777531728849318, 0.7442399119629753, 0.6257907025851199, 0.5757420608889084, 0.6824621236657681, 0.5, 0.7329987985903814, 0.5233821533123311, 0.5, 0.7448859100433755, 0.5, 0.5, 0.6763785712050452, 0.6431572140029154, 0.7525671776934226, 0.7107787472896963, 0.6979132425792228, 0.7312083505065406, 0.5329065307504587, 0.7090240715790005, 0.5, 0.7162343909459208, 0.7286242154440974, 0.7371523539054616, 0.7463532546610276, 0.7488344389306815]}, {\"categories\": [\"0\", \"1\", \"2\", \"3\", \"4\", \"5\", \"6\", \"7\", \"8\", \"9\", \"10\", \"11\", \"12\", \"13\", \"14\", \"15\", \"16\", \"17\", \"18\", \"19\", \"20\", \"21\", \"22\", \"23\", \"24\", \"25\", \"26\", \"27\", \"28\", \"29\", \"30\"], \"mode\": \"lines\", \"name\": \"balanced_accuracy_max\", \"stepped\": true, \"type\": \"scatter\", \"data\": [0.7525962454771437, 0.7525962454771437, 0.7525962454771437, 0.7525962454771437, 0.7838089264105591, 0.7838089264105591, 0.7838089264105591, 0.7838089264105591, 0.7838089264105591, 0.7838089264105591, 0.7838089264105591, 0.7838089264105591, 0.7838089264105591, 0.7838089264105591, 0.7838089264105591, 0.7838089264105591, 0.7838089264105591, 0.7838089264105591, 0.7838089264105591, 0.7838089264105591, 0.7838089264105591, 0.7838089264105591, 0.7838089264105591, 0.7838089264105591, 0.7838089264105591, 0.7838089264105591, 0.7838089264105591, 0.7838089264105591, 0.7838089264105591, 0.7838089264105591, 0.7838089264105591]}], \"recall_score_micro\": [{\"categories\": [\"0\", \"1\", \"2\", \"3\", \"4\", \"5\", \"6\", \"7\", \"8\", \"9\", \"10\", \"11\", \"12\", \"13\", \"14\", \"15\", \"16\", \"17\", \"18\", \"19\", \"20\", \"21\", \"22\", \"23\", \"24\", \"25\", \"26\", \"27\", \"28\", \"29\", \"30\"], \"mode\": \"markers\", \"name\": \"recall_score_micro\", \"stepped\": false, \"type\": \"scatter\", \"data\": [0.9152352048558422, 0.9152655538694991, 0.8908345978755688, 0.8879514415781486, 0.8175720789074357, 0.7731714719271623, 0.9127162367223065, 0.9030652503793626, 0.9002731411229135, 0.9083156297420334, 0.8879514415781486, 0.9121092564491654, 0.8912291350531107, 0.8879514415781486, 0.9136874051593324, 0.8879514415781486, 0.8879514415781486, 0.9048558421851289, 0.9049165402124432, 0.9145371775417299, 0.9123216995447647, 0.9064036418816389, 0.9103490136570562, 0.892412746585736, 0.908619119878604, 0.8879514415781486, 0.9133839150227618, 0.9113201820940819, 0.9112291350531109, 0.9165705614567526, 0.9159332321699545]}, {\"categories\": [\"0\", \"1\", \"2\", \"3\", \"4\", \"5\", \"6\", \"7\", \"8\", \"9\", \"10\", \"11\", \"12\", \"13\", \"14\", \"15\", \"16\", \"17\", \"18\", \"19\", \"20\", \"21\", \"22\", \"23\", \"24\", \"25\", \"26\", \"27\", \"28\", \"29\", \"30\"], \"mode\": \"lines\", \"name\": \"recall_score_micro_max\", \"stepped\": true, \"type\": \"scatter\", \"data\": [0.9152352048558422, 0.9152655538694991, 0.9152655538694991, 0.9152655538694991, 0.9152655538694991, 0.9152655538694991, 0.9152655538694991, 0.9152655538694991, 0.9152655538694991, 0.9152655538694991, 0.9152655538694991, 0.9152655538694991, 0.9152655538694991, 0.9152655538694991, 0.9152655538694991, 0.9152655538694991, 0.9152655538694991, 0.9152655538694991, 0.9152655538694991, 0.9152655538694991, 0.9152655538694991, 0.9152655538694991, 0.9152655538694991, 0.9152655538694991, 0.9152655538694991, 0.9152655538694991, 0.9152655538694991, 0.9152655538694991, 0.9152655538694991, 0.9165705614567526, 0.9165705614567526]}], \"average_precision_score_micro\": [{\"categories\": [\"0\", \"1\", \"2\", \"3\", \"4\", \"5\", \"6\", \"7\", \"8\", \"9\", \"10\", \"11\", \"12\", \"13\", \"14\", \"15\", \"16\", \"17\", \"18\", \"19\", \"20\", \"21\", \"22\", \"23\", \"24\", \"25\", \"26\", \"27\", \"28\", \"29\", \"30\"], \"mode\": \"markers\", \"name\": \"average_precision_score_micro\", \"stepped\": false, \"type\": \"scatter\", \"data\": [0.981965139416714, 0.9815279983918597, 0.9685205129434438, 0.9639148902396633, 0.8644399868029687, 0.8636192205996039, 0.9805528302644451, 0.9757344172100432, 0.9738395042793693, 0.9713267755281357, 0.9606893038697658, 0.980604096117738, 0.9741096241842209, 0.9731219687624234, 0.9811750681230288, 0.9562048892063869, 0.9745361836655275, 0.9759756666718419, 0.9765145260575345, 0.9807487730585848, 0.9799796160807581, 0.9784190720457285, 0.9787728314575087, 0.9715731318481339, 0.9798384783936143, 0.844485621061018, 0.9803533502053344, 0.9793503511727997, 0.9804645708306797, 0.9820878958806908, 0.9820532583827717]}, {\"categories\": [\"0\", \"1\", \"2\", \"3\", \"4\", \"5\", \"6\", \"7\", \"8\", \"9\", \"10\", \"11\", \"12\", \"13\", \"14\", \"15\", \"16\", \"17\", \"18\", \"19\", \"20\", \"21\", \"22\", \"23\", \"24\", \"25\", \"26\", \"27\", \"28\", \"29\", \"30\"], \"mode\": \"lines\", \"name\": \"average_precision_score_micro_max\", \"stepped\": true, \"type\": \"scatter\", \"data\": [0.981965139416714, 0.981965139416714, 0.981965139416714, 0.981965139416714, 0.981965139416714, 0.981965139416714, 0.981965139416714, 0.981965139416714, 0.981965139416714, 0.981965139416714, 0.981965139416714, 0.981965139416714, 0.981965139416714, 0.981965139416714, 0.981965139416714, 0.981965139416714, 0.981965139416714, 0.981965139416714, 0.981965139416714, 0.981965139416714, 0.981965139416714, 0.981965139416714, 0.981965139416714, 0.981965139416714, 0.981965139416714, 0.981965139416714, 0.981965139416714, 0.981965139416714, 0.981965139416714, 0.9820878958806908, 0.9820878958806908]}], \"AUC_macro\": [{\"categories\": [\"0\", \"1\", \"2\", \"3\", \"4\", \"5\", \"6\", \"7\", \"8\", \"9\", \"10\", \"11\", \"12\", \"13\", \"14\", \"15\", \"16\", \"17\", \"18\", \"19\", \"20\", \"21\", \"22\", \"23\", \"24\", \"25\", \"26\", \"27\", \"28\", \"29\", \"30\"], \"mode\": \"markers\", \"name\": \"AUC_macro\", \"stepped\": false, \"type\": \"scatter\", \"data\": [0.9492247126912634, 0.9472802247155017, 0.9030501014539916, 0.87645329860522, 0.8882105670511521, 0.880829385270421, 0.9448247358204089, 0.9287218723903304, 0.9235460964731963, 0.9301933212095566, 0.8584237402143178, 0.944961398488713, 0.9269429830049534, 0.9246854983576073, 0.9466772354380192, 0.842545363943397, 0.9298207279422825, 0.9283880670116573, 0.9319837288853053, 0.9447116599742216, 0.9422002024178694, 0.937645115132999, 0.9378733780744717, 0.915780364169484, 0.9429351311156393, 0.5, 0.9438951399737207, 0.9397246134795344, 0.944787332016424, 0.9494806165494815, 0.9493792714951974]}, {\"categories\": [\"0\", \"1\", \"2\", \"3\", \"4\", \"5\", \"6\", \"7\", \"8\", \"9\", \"10\", \"11\", \"12\", \"13\", \"14\", \"15\", \"16\", \"17\", \"18\", \"19\", \"20\", \"21\", \"22\", \"23\", \"24\", \"25\", \"26\", \"27\", \"28\", \"29\", \"30\"], \"mode\": \"lines\", \"name\": \"AUC_macro_max\", \"stepped\": true, \"type\": \"scatter\", \"data\": [0.9492247126912634, 0.9492247126912634, 0.9492247126912634, 0.9492247126912634, 0.9492247126912634, 0.9492247126912634, 0.9492247126912634, 0.9492247126912634, 0.9492247126912634, 0.9492247126912634, 0.9492247126912634, 0.9492247126912634, 0.9492247126912634, 0.9492247126912634, 0.9492247126912634, 0.9492247126912634, 0.9492247126912634, 0.9492247126912634, 0.9492247126912634, 0.9492247126912634, 0.9492247126912634, 0.9492247126912634, 0.9492247126912634, 0.9492247126912634, 0.9492247126912634, 0.9492247126912634, 0.9492247126912634, 0.9492247126912634, 0.9492247126912634, 0.9494806165494815, 0.9494806165494815]}], \"AUC_micro\": [{\"categories\": [\"0\", \"1\", \"2\", \"3\", \"4\", \"5\", \"6\", \"7\", \"8\", \"9\", \"10\", \"11\", \"12\", \"13\", \"14\", \"15\", \"16\", \"17\", \"18\", \"19\", \"20\", \"21\", \"22\", \"23\", \"24\", \"25\", \"26\", \"27\", \"28\", \"29\", \"30\"], \"mode\": \"markers\", \"name\": \"AUC_micro\", \"stepped\": false, \"type\": \"scatter\", \"data\": [0.9811348781088742, 0.9806967976955013, 0.9682019844294363, 0.9628485519744128, 0.8846631558829422, 0.8725581961909455, 0.9799242195721206, 0.9747235039064568, 0.9726792744789666, 0.9739869209106546, 0.9592663137461688, 0.9799062081923916, 0.9730081537069317, 0.9724533286052118, 0.9803332473674878, 0.9561206960470294, 0.9734746811396308, 0.9749630999283874, 0.9755420292391331, 0.9799168556763937, 0.979137176160136, 0.9773988915011248, 0.9778654649869554, 0.9707388257833062, 0.978880439162662, 0.8879514415781488, 0.9795817961181814, 0.9784600799942893, 0.979578966153251, 0.981283044848842, 0.9812430477041364]}, {\"categories\": [\"0\", \"1\", \"2\", \"3\", \"4\", \"5\", \"6\", \"7\", \"8\", \"9\", \"10\", \"11\", \"12\", \"13\", \"14\", \"15\", \"16\", \"17\", \"18\", \"19\", \"20\", \"21\", \"22\", \"23\", \"24\", \"25\", \"26\", \"27\", \"28\", \"29\", \"30\"], \"mode\": \"lines\", \"name\": \"AUC_micro_max\", \"stepped\": true, \"type\": \"scatter\", \"data\": [0.9811348781088742, 0.9811348781088742, 0.9811348781088742, 0.9811348781088742, 0.9811348781088742, 0.9811348781088742, 0.9811348781088742, 0.9811348781088742, 0.9811348781088742, 0.9811348781088742, 0.9811348781088742, 0.9811348781088742, 0.9811348781088742, 0.9811348781088742, 0.9811348781088742, 0.9811348781088742, 0.9811348781088742, 0.9811348781088742, 0.9811348781088742, 0.9811348781088742, 0.9811348781088742, 0.9811348781088742, 0.9811348781088742, 0.9811348781088742, 0.9811348781088742, 0.9811348781088742, 0.9811348781088742, 0.9811348781088742, 0.9811348781088742, 0.981283044848842, 0.981283044848842]}], \"precision_score_micro\": [{\"categories\": [\"0\", \"1\", \"2\", \"3\", \"4\", \"5\", \"6\", \"7\", \"8\", \"9\", \"10\", \"11\", \"12\", \"13\", \"14\", \"15\", \"16\", \"17\", \"18\", \"19\", \"20\", \"21\", \"22\", \"23\", \"24\", \"25\", \"26\", \"27\", \"28\", \"29\", \"30\"], \"mode\": \"markers\", \"name\": \"precision_score_micro\", \"stepped\": false, \"type\": \"scatter\", \"data\": [0.9152352048558422, 0.9152655538694991, 0.8908345978755688, 0.8879514415781486, 0.8175720789074357, 0.7731714719271623, 0.9127162367223065, 0.9030652503793626, 0.9002731411229135, 0.9083156297420334, 0.8879514415781486, 0.9121092564491654, 0.8912291350531107, 0.8879514415781486, 0.9136874051593324, 0.8879514415781486, 0.8879514415781486, 0.9048558421851289, 0.9049165402124432, 0.9145371775417299, 0.9123216995447647, 0.9064036418816389, 0.9103490136570562, 0.892412746585736, 0.908619119878604, 0.8879514415781486, 0.9133839150227618, 0.9113201820940819, 0.9112291350531109, 0.9165705614567526, 0.9159332321699545]}, {\"categories\": [\"0\", \"1\", \"2\", \"3\", \"4\", \"5\", \"6\", \"7\", \"8\", \"9\", \"10\", \"11\", \"12\", \"13\", \"14\", \"15\", \"16\", \"17\", \"18\", \"19\", \"20\", \"21\", \"22\", \"23\", \"24\", \"25\", \"26\", \"27\", \"28\", \"29\", \"30\"], \"mode\": \"lines\", \"name\": \"precision_score_micro_max\", \"stepped\": true, \"type\": \"scatter\", \"data\": [0.9152352048558422, 0.9152655538694991, 0.9152655538694991, 0.9152655538694991, 0.9152655538694991, 0.9152655538694991, 0.9152655538694991, 0.9152655538694991, 0.9152655538694991, 0.9152655538694991, 0.9152655538694991, 0.9152655538694991, 0.9152655538694991, 0.9152655538694991, 0.9152655538694991, 0.9152655538694991, 0.9152655538694991, 0.9152655538694991, 0.9152655538694991, 0.9152655538694991, 0.9152655538694991, 0.9152655538694991, 0.9152655538694991, 0.9152655538694991, 0.9152655538694991, 0.9152655538694991, 0.9152655538694991, 0.9152655538694991, 0.9152655538694991, 0.9165705614567526, 0.9165705614567526]}], \"precision_score_macro\": [{\"categories\": [\"0\", \"1\", \"2\", \"3\", \"4\", \"5\", \"6\", \"7\", \"8\", \"9\", \"10\", \"11\", \"12\", \"13\", \"14\", \"15\", \"16\", \"17\", \"18\", \"19\", \"20\", \"21\", \"22\", \"23\", \"24\", \"25\", \"26\", \"27\", \"28\", \"29\", \"30\"], \"mode\": \"markers\", \"name\": \"precision_score_macro\", \"stepped\": false, \"type\": \"scatter\", \"data\": [0.7941122642166034, 0.7995180917843671, 0.845434137202596, 0.4439757207890743, 0.6572600480234414, 0.635298334929842, 0.7872689166311264, 0.791138823121172, 0.8378373305522384, 0.7892478274152034, 0.4439757207890743, 0.7878913483876488, 0.8024362404854726, 0.4439757207890743, 0.7907447725808955, 0.4439757207890743, 0.4439757207890743, 0.7744620345361259, 0.7912267842221133, 0.7916168164183295, 0.7963805705640599, 0.7745983862012302, 0.7820373672911851, 0.7987415322175708, 0.7807066938119294, 0.4439757207890743, 0.7990184786008137, 0.7863863190871665, 0.7835984761600917, 0.8011462279223242, 0.7980650288006528]}, {\"categories\": [\"0\", \"1\", \"2\", \"3\", \"4\", \"5\", \"6\", \"7\", \"8\", \"9\", \"10\", \"11\", \"12\", \"13\", \"14\", \"15\", \"16\", \"17\", \"18\", \"19\", \"20\", \"21\", \"22\", \"23\", \"24\", \"25\", \"26\", \"27\", \"28\", \"29\", \"30\"], \"mode\": \"lines\", \"name\": \"precision_score_macro_max\", \"stepped\": true, \"type\": \"scatter\", \"data\": [0.7941122642166034, 0.7995180917843671, 0.845434137202596, 0.845434137202596, 0.845434137202596, 0.845434137202596, 0.845434137202596, 0.845434137202596, 0.845434137202596, 0.845434137202596, 0.845434137202596, 0.845434137202596, 0.845434137202596, 0.845434137202596, 0.845434137202596, 0.845434137202596, 0.845434137202596, 0.845434137202596, 0.845434137202596, 0.845434137202596, 0.845434137202596, 0.845434137202596, 0.845434137202596, 0.845434137202596, 0.845434137202596, 0.845434137202596, 0.845434137202596, 0.845434137202596, 0.845434137202596, 0.845434137202596, 0.845434137202596]}], \"norm_macro_recall\": [{\"categories\": [\"0\", \"1\", \"2\", \"3\", \"4\", \"5\", \"6\", \"7\", \"8\", \"9\", \"10\", \"11\", \"12\", \"13\", \"14\", \"15\", \"16\", \"17\", \"18\", \"19\", \"20\", \"21\", \"22\", \"23\", \"24\", \"25\", \"26\", \"27\", \"28\", \"29\", \"30\"], \"mode\": \"markers\", \"name\": \"norm_macro_recall\", \"stepped\": false, \"type\": \"scatter\", \"data\": [0.5051924909542871, 0.4714754062268698, 0.037312961273557745, 0.0, 0.5676178528211182, 0.5555063457698637, 0.48847982392595046, 0.2515814051702397, 0.1514841217778168, 0.3649242473315363, 0.0, 0.46599759718076283, 0.046764306624662, 0.0, 0.4897718200867507, 0.0, 0.0, 0.35275714241009026, 0.2863144280058307, 0.5051343553868453, 0.4215574945793927, 0.39582648515844554, 0.4624167010130814, 0.06581306150091745, 0.4180481431580011, 0.0, 0.43246878189184157, 0.4572484308881949, 0.47430470781092315, 0.4927065093220552, 0.497668877861363]}, {\"categories\": [\"0\", \"1\", \"2\", \"3\", \"4\", \"5\", \"6\", \"7\", \"8\", \"9\", \"10\", \"11\", \"12\", \"13\", \"14\", \"15\", \"16\", \"17\", \"18\", \"19\", \"20\", \"21\", \"22\", \"23\", \"24\", \"25\", \"26\", \"27\", \"28\", \"29\", \"30\"], \"mode\": \"lines\", \"name\": \"norm_macro_recall_max\", \"stepped\": true, \"type\": \"scatter\", \"data\": [0.5051924909542871, 0.5051924909542871, 0.5051924909542871, 0.5051924909542871, 0.5676178528211182, 0.5676178528211182, 0.5676178528211182, 0.5676178528211182, 0.5676178528211182, 0.5676178528211182, 0.5676178528211182, 0.5676178528211182, 0.5676178528211182, 0.5676178528211182, 0.5676178528211182, 0.5676178528211182, 0.5676178528211182, 0.5676178528211182, 0.5676178528211182, 0.5676178528211182, 0.5676178528211182, 0.5676178528211182, 0.5676178528211182, 0.5676178528211182, 0.5676178528211182, 0.5676178528211182, 0.5676178528211182, 0.5676178528211182, 0.5676178528211182, 0.5676178528211182, 0.5676178528211182]}], \"recall_score_macro\": [{\"categories\": [\"0\", \"1\", \"2\", \"3\", \"4\", \"5\", \"6\", \"7\", \"8\", \"9\", \"10\", \"11\", \"12\", \"13\", \"14\", \"15\", \"16\", \"17\", \"18\", \"19\", \"20\", \"21\", \"22\", \"23\", \"24\", \"25\", \"26\", \"27\", \"28\", \"29\", \"30\"], \"mode\": \"markers\", \"name\": \"recall_score_macro\", \"stepped\": false, \"type\": \"scatter\", \"data\": [0.7525962454771437, 0.7357377031134348, 0.5186564806367789, 0.5, 0.7838089264105591, 0.7777531728849318, 0.7442399119629753, 0.6257907025851199, 0.5757420608889084, 0.6824621236657681, 0.5, 0.7329987985903814, 0.5233821533123311, 0.5, 0.7448859100433755, 0.5, 0.5, 0.6763785712050452, 0.6431572140029154, 0.7525671776934226, 0.7107787472896963, 0.6979132425792228, 0.7312083505065406, 0.5329065307504587, 0.7090240715790005, 0.5, 0.7162343909459208, 0.7286242154440974, 0.7371523539054616, 0.7463532546610276, 0.7488344389306815]}, {\"categories\": [\"0\", \"1\", \"2\", \"3\", \"4\", \"5\", \"6\", \"7\", \"8\", \"9\", \"10\", \"11\", \"12\", \"13\", \"14\", \"15\", \"16\", \"17\", \"18\", \"19\", \"20\", \"21\", \"22\", \"23\", \"24\", \"25\", \"26\", \"27\", \"28\", \"29\", \"30\"], \"mode\": \"lines\", \"name\": \"recall_score_macro_max\", \"stepped\": true, \"type\": \"scatter\", \"data\": [0.7525962454771437, 0.7525962454771437, 0.7525962454771437, 0.7525962454771437, 0.7838089264105591, 0.7838089264105591, 0.7838089264105591, 0.7838089264105591, 0.7838089264105591, 0.7838089264105591, 0.7838089264105591, 0.7838089264105591, 0.7838089264105591, 0.7838089264105591, 0.7838089264105591, 0.7838089264105591, 0.7838089264105591, 0.7838089264105591, 0.7838089264105591, 0.7838089264105591, 0.7838089264105591, 0.7838089264105591, 0.7838089264105591, 0.7838089264105591, 0.7838089264105591, 0.7838089264105591, 0.7838089264105591, 0.7838089264105591, 0.7838089264105591, 0.7838089264105591, 0.7838089264105591]}], \"average_precision_score_macro\": [{\"categories\": [\"0\", \"1\", \"2\", \"3\", \"4\", \"5\", \"6\", \"7\", \"8\", \"9\", \"10\", \"11\", \"12\", \"13\", \"14\", \"15\", \"16\", \"17\", \"18\", \"19\", \"20\", \"21\", \"22\", \"23\", \"24\", \"25\", \"26\", \"27\", \"28\", \"29\", \"30\"], \"mode\": \"markers\", \"name\": \"average_precision_score_macro\", \"stepped\": false, \"type\": \"scatter\", \"data\": [0.8257031136551249, 0.8276420269067669, 0.7482169151892046, 0.7079113071107841, 0.7436672893225642, 0.7311181595412144, 0.8195463842526507, 0.7816519212959324, 0.7818918859348208, 0.7888807773042549, 0.6987946091097511, 0.8177297404942003, 0.7810461465517269, 0.7720497147899005, 0.8206011622987642, 0.7165845177179235, 0.7841021814107747, 0.7806508586508683, 0.7878576342612307, 0.8188128829765837, 0.8148842060876598, 0.7947183623527024, 0.8003301895752566, 0.7617200191414076, 0.8032703916862, 0.5, 0.8183496826233851, 0.8081271226354868, 0.8129681934932217, 0.8297540591523507, 0.8290365916685278]}, {\"categories\": [\"0\", \"1\", \"2\", \"3\", \"4\", \"5\", \"6\", \"7\", \"8\", \"9\", \"10\", \"11\", \"12\", \"13\", \"14\", \"15\", \"16\", \"17\", \"18\", \"19\", \"20\", \"21\", \"22\", \"23\", \"24\", \"25\", \"26\", \"27\", \"28\", \"29\", \"30\"], \"mode\": \"lines\", \"name\": \"average_precision_score_macro_max\", \"stepped\": true, \"type\": \"scatter\", \"data\": [0.8257031136551249, 0.8276420269067669, 0.8276420269067669, 0.8276420269067669, 0.8276420269067669, 0.8276420269067669, 0.8276420269067669, 0.8276420269067669, 0.8276420269067669, 0.8276420269067669, 0.8276420269067669, 0.8276420269067669, 0.8276420269067669, 0.8276420269067669, 0.8276420269067669, 0.8276420269067669, 0.8276420269067669, 0.8276420269067669, 0.8276420269067669, 0.8276420269067669, 0.8276420269067669, 0.8276420269067669, 0.8276420269067669, 0.8276420269067669, 0.8276420269067669, 0.8276420269067669, 0.8276420269067669, 0.8276420269067669, 0.8276420269067669, 0.8297540591523507, 0.8297540591523507]}], \"average_precision_score_weighted\": [{\"categories\": [\"0\", \"1\", \"2\", \"3\", \"4\", \"5\", \"6\", \"7\", \"8\", \"9\", \"10\", \"11\", \"12\", \"13\", \"14\", \"15\", \"16\", \"17\", \"18\", \"19\", \"20\", \"21\", \"22\", \"23\", \"24\", \"25\", \"26\", \"27\", \"28\", \"29\", \"30\"], \"mode\": \"markers\", \"name\": \"average_precision_score_weighted\", \"stepped\": false, \"type\": \"scatter\", \"data\": [0.955897565208837, 0.9561012967505282, 0.9323734640474586, 0.9208615028718604, 0.9303027854826927, 0.9264675197063971, 0.953803524975573, 0.943664861022223, 0.9431821360236349, 0.9451981840328166, 0.9169111132841792, 0.9534662114157626, 0.9432761665205002, 0.9407656168974613, 0.9544502025376357, 0.9175279350546974, 0.9442842714747265, 0.9434285268789864, 0.9454041206591169, 0.9538040712735174, 0.9526208759948165, 0.947751756257777, 0.9489098446326152, 0.9375506871477732, 0.9502443216927705, 0.8010198005438876, 0.9535446901259821, 0.9508649861189495, 0.9525495151896475, 0.9568085256382629, 0.9566406941937438]}, {\"categories\": [\"0\", \"1\", \"2\", \"3\", \"4\", \"5\", \"6\", \"7\", \"8\", \"9\", \"10\", \"11\", \"12\", \"13\", \"14\", \"15\", \"16\", \"17\", \"18\", \"19\", \"20\", \"21\", \"22\", \"23\", \"24\", \"25\", \"26\", \"27\", \"28\", \"29\", \"30\"], \"mode\": \"lines\", \"name\": \"average_precision_score_weighted_max\", \"stepped\": true, \"type\": \"scatter\", \"data\": [0.955897565208837, 0.9561012967505282, 0.9561012967505282, 0.9561012967505282, 0.9561012967505282, 0.9561012967505282, 0.9561012967505282, 0.9561012967505282, 0.9561012967505282, 0.9561012967505282, 0.9561012967505282, 0.9561012967505282, 0.9561012967505282, 0.9561012967505282, 0.9561012967505282, 0.9561012967505282, 0.9561012967505282, 0.9561012967505282, 0.9561012967505282, 0.9561012967505282, 0.9561012967505282, 0.9561012967505282, 0.9561012967505282, 0.9561012967505282, 0.9561012967505282, 0.9561012967505282, 0.9561012967505282, 0.9561012967505282, 0.9561012967505282, 0.9568085256382629, 0.9568085256382629]}], \"recall_score_weighted\": [{\"categories\": [\"0\", \"1\", \"2\", \"3\", \"4\", \"5\", \"6\", \"7\", \"8\", \"9\", \"10\", \"11\", \"12\", \"13\", \"14\", \"15\", \"16\", \"17\", \"18\", \"19\", \"20\", \"21\", \"22\", \"23\", \"24\", \"25\", \"26\", \"27\", \"28\", \"29\", \"30\"], \"mode\": \"markers\", \"name\": \"recall_score_weighted\", \"stepped\": false, \"type\": \"scatter\", \"data\": [0.9152352048558422, 0.9152655538694991, 0.8908345978755688, 0.8879514415781486, 0.8175720789074357, 0.7731714719271623, 0.9127162367223065, 0.9030652503793626, 0.9002731411229135, 0.9083156297420334, 0.8879514415781486, 0.9121092564491654, 0.8912291350531107, 0.8879514415781486, 0.9136874051593324, 0.8879514415781486, 0.8879514415781486, 0.9048558421851289, 0.9049165402124432, 0.9145371775417299, 0.9123216995447647, 0.9064036418816389, 0.9103490136570562, 0.892412746585736, 0.908619119878604, 0.8879514415781486, 0.9133839150227618, 0.9113201820940819, 0.9112291350531109, 0.9165705614567526, 0.9159332321699545]}, {\"categories\": [\"0\", \"1\", \"2\", \"3\", \"4\", \"5\", \"6\", \"7\", \"8\", \"9\", \"10\", \"11\", \"12\", \"13\", \"14\", \"15\", \"16\", \"17\", \"18\", \"19\", \"20\", \"21\", \"22\", \"23\", \"24\", \"25\", \"26\", \"27\", \"28\", \"29\", \"30\"], \"mode\": \"lines\", \"name\": \"recall_score_weighted_max\", \"stepped\": true, \"type\": \"scatter\", \"data\": [0.9152352048558422, 0.9152655538694991, 0.9152655538694991, 0.9152655538694991, 0.9152655538694991, 0.9152655538694991, 0.9152655538694991, 0.9152655538694991, 0.9152655538694991, 0.9152655538694991, 0.9152655538694991, 0.9152655538694991, 0.9152655538694991, 0.9152655538694991, 0.9152655538694991, 0.9152655538694991, 0.9152655538694991, 0.9152655538694991, 0.9152655538694991, 0.9152655538694991, 0.9152655538694991, 0.9152655538694991, 0.9152655538694991, 0.9152655538694991, 0.9152655538694991, 0.9152655538694991, 0.9152655538694991, 0.9152655538694991, 0.9152655538694991, 0.9165705614567526, 0.9165705614567526]}], \"weighted_accuracy\": [{\"categories\": [\"0\", \"1\", \"2\", \"3\", \"4\", \"5\", \"6\", \"7\", \"8\", \"9\", \"10\", \"11\", \"12\", \"13\", \"14\", \"15\", \"16\", \"17\", \"18\", \"19\", \"20\", \"21\", \"22\", \"23\", \"24\", \"25\", \"26\", \"27\", \"28\", \"29\", \"30\"], \"mode\": \"markers\", \"name\": \"weighted_accuracy\", \"stepped\": false, \"type\": \"scatter\", \"data\": [0.9556284570225755, 0.9598389892034243, 0.9832562809896729, 0.9843197680605863, 0.8259888802982995, 0.7719984690188157, 0.9545705965297188, 0.9719178166645914, 0.9808975873621127, 0.9644189387944715, 0.9843197680605863, 0.956601384082667, 0.9826035263744568, 0.9843197680605863, 0.9556163641595148, 0.9843197680605863, 0.9843197680605863, 0.9615868986493072, 0.9699124562398784, 0.9547651188618579, 0.9623900684497608, 0.9581595900069535, 0.9548289781217616, 0.981711552096742, 0.9581747848983955, 0.9843197680605863, 0.9623370766390865, 0.9566978089355809, 0.9544771624499185, 0.9588436001611829, 0.9574314461476394]}, {\"categories\": [\"0\", \"1\", \"2\", \"3\", \"4\", \"5\", \"6\", \"7\", \"8\", \"9\", \"10\", \"11\", \"12\", \"13\", \"14\", \"15\", \"16\", \"17\", \"18\", \"19\", \"20\", \"21\", \"22\", \"23\", \"24\", \"25\", \"26\", \"27\", \"28\", \"29\", \"30\"], \"mode\": \"lines\", \"name\": \"weighted_accuracy_max\", \"stepped\": true, \"type\": \"scatter\", \"data\": [0.9556284570225755, 0.9598389892034243, 0.9832562809896729, 0.9843197680605863, 0.9843197680605863, 0.9843197680605863, 0.9843197680605863, 0.9843197680605863, 0.9843197680605863, 0.9843197680605863, 0.9843197680605863, 0.9843197680605863, 0.9843197680605863, 0.9843197680605863, 0.9843197680605863, 0.9843197680605863, 0.9843197680605863, 0.9843197680605863, 0.9843197680605863, 0.9843197680605863, 0.9843197680605863, 0.9843197680605863, 0.9843197680605863, 0.9843197680605863, 0.9843197680605863, 0.9843197680605863, 0.9843197680605863, 0.9843197680605863, 0.9843197680605863, 0.9843197680605863, 0.9843197680605863]}]}, \"metricName\": null, \"primaryMetricName\": \"accuracy\", \"showLegend\": false}, \"run_metrics\": [{\"name\": \"experiment_status\", \"run_id\": \"AutoML_44de51ab-67a6-4580-9a73-07a3bb219c34\", \"categories\": [0, 1, 2, 3, 4, 5, 6, 7, 8, 9, 10, 11, 12, 13, 14], \"series\": [{\"data\": [\"DatasetEvaluation\", \"FeaturesGeneration\", \"DatasetFeaturization\", \"DatasetFeaturizationCompleted\", \"DatasetBalancing\", \"DatasetCrossValidationSplit\", \"ModelSelection\", \"BestRunExplainModel\", \"ModelExplanationDataSetSetup\", \"PickSurrogateModel\", \"EngineeredFeatureExplanations\", \"EngineeredFeatureExplanations\", \"RawFeaturesExplanations\", \"RawFeaturesExplanations\", \"BestRunExplainModel\"]}]}, {\"name\": \"experiment_status_description\", \"run_id\": \"AutoML_44de51ab-67a6-4580-9a73-07a3bb219c34\", \"categories\": [0, 1, 2, 3, 4, 5, 6, 7, 8, 9, 10, 11, 12, 13, 14], \"series\": [{\"data\": [\"Gathering dataset statistics.\", \"Generating features for the dataset.\", \"Beginning to fit featurizers and featurize the dataset.\", \"Completed fit featurizers and featurizing the dataset.\", \"Performing class balancing sweeping\", \"Generating individually featurized CV splits.\", \"Beginning model selection.\", \"Best run model explanations started\", \"Model explanations data setup completed\", \"Choosing LightGBM as the surrogate model for explanations\", \"Computation of engineered features started\", \"Computation of engineered features completed\", \"Computation of raw features started\", \"Computation of raw features completed\", \"Best run model explanations completed\"]}]}, {\"name\": \"recall_score_weighted\", \"run_id\": \"AutoML_44de51ab-67a6-4580-9a73-07a3bb219c34\", \"categories\": [0], \"series\": [{\"data\": [0.9165705614567526]}]}, {\"name\": \"log_loss\", \"run_id\": \"AutoML_44de51ab-67a6-4580-9a73-07a3bb219c34\", \"categories\": [0], \"series\": [{\"data\": [0.17429361106318703]}]}, {\"name\": \"recall_score_micro\", \"run_id\": \"AutoML_44de51ab-67a6-4580-9a73-07a3bb219c34\", \"categories\": [0], \"series\": [{\"data\": [0.9165705614567526]}]}, {\"name\": \"AUC_micro\", \"run_id\": \"AutoML_44de51ab-67a6-4580-9a73-07a3bb219c34\", \"categories\": [0], \"series\": [{\"data\": [0.981283044848842]}]}, {\"name\": \"f1_score_micro\", \"run_id\": \"AutoML_44de51ab-67a6-4580-9a73-07a3bb219c34\", \"categories\": [0], \"series\": [{\"data\": [0.9165705614567526]}]}, {\"name\": \"recall_score_macro\", \"run_id\": \"AutoML_44de51ab-67a6-4580-9a73-07a3bb219c34\", \"categories\": [0], \"series\": [{\"data\": [0.7463532546610276]}]}, {\"name\": \"precision_score_weighted\", \"run_id\": \"AutoML_44de51ab-67a6-4580-9a73-07a3bb219c34\", \"categories\": [0], \"series\": [{\"data\": [0.9103040032505966]}]}, {\"name\": \"matthews_correlation\", \"run_id\": \"AutoML_44de51ab-67a6-4580-9a73-07a3bb219c34\", \"categories\": [0], \"series\": [{\"data\": [0.5446582668412878]}]}, {\"name\": \"precision_score_macro\", \"run_id\": \"AutoML_44de51ab-67a6-4580-9a73-07a3bb219c34\", \"categories\": [0], \"series\": [{\"data\": [0.8011462279223242]}]}, {\"name\": \"average_precision_score_micro\", \"run_id\": \"AutoML_44de51ab-67a6-4580-9a73-07a3bb219c34\", \"categories\": [0], \"series\": [{\"data\": [0.9820878958806908]}]}, {\"name\": \"AUC_weighted\", \"run_id\": \"AutoML_44de51ab-67a6-4580-9a73-07a3bb219c34\", \"categories\": [0], \"series\": [{\"data\": [0.9494806165494815]}]}, {\"name\": \"balanced_accuracy\", \"run_id\": \"AutoML_44de51ab-67a6-4580-9a73-07a3bb219c34\", \"categories\": [0], \"series\": [{\"data\": [0.7463532546610276]}]}, {\"name\": \"AUC_macro\", \"run_id\": \"AutoML_44de51ab-67a6-4580-9a73-07a3bb219c34\", \"categories\": [0], \"series\": [{\"data\": [0.9494806165494815]}]}, {\"name\": \"f1_score_weighted\", \"run_id\": \"AutoML_44de51ab-67a6-4580-9a73-07a3bb219c34\", \"categories\": [0], \"series\": [{\"data\": [0.9124317373411948]}]}, {\"name\": \"precision_score_micro\", \"run_id\": \"AutoML_44de51ab-67a6-4580-9a73-07a3bb219c34\", \"categories\": [0], \"series\": [{\"data\": [0.9165705614567526]}]}, {\"name\": \"average_precision_score_macro\", \"run_id\": \"AutoML_44de51ab-67a6-4580-9a73-07a3bb219c34\", \"categories\": [0], \"series\": [{\"data\": [0.8297540591523507]}]}, {\"name\": \"norm_macro_recall\", \"run_id\": \"AutoML_44de51ab-67a6-4580-9a73-07a3bb219c34\", \"categories\": [0], \"series\": [{\"data\": [0.4927065093220552]}]}, {\"name\": \"average_precision_score_weighted\", \"run_id\": \"AutoML_44de51ab-67a6-4580-9a73-07a3bb219c34\", \"categories\": [0], \"series\": [{\"data\": [0.9568085256382629]}]}, {\"name\": \"accuracy\", \"run_id\": \"AutoML_44de51ab-67a6-4580-9a73-07a3bb219c34\", \"categories\": [0], \"series\": [{\"data\": [0.9165705614567526]}]}, {\"name\": \"f1_score_macro\", \"run_id\": \"AutoML_44de51ab-67a6-4580-9a73-07a3bb219c34\", \"categories\": [0], \"series\": [{\"data\": [0.7697995294228905]}]}, {\"name\": \"weighted_accuracy\", \"run_id\": \"AutoML_44de51ab-67a6-4580-9a73-07a3bb219c34\", \"categories\": [0], \"series\": [{\"data\": [0.9588436001611829]}]}], \"run_logs\": \"\\nRun is completed.\", \"graph\": {}, \"widget_settings\": {\"childWidgetDisplay\": \"popup\", \"send_telemetry\": false, \"log_level\": \"INFO\", \"sdk_version\": \"1.31.0\"}, \"loading\": false}"
          },
          "metadata": {}
        }
      ],
      "execution_count": 37,
      "metadata": {
        "collapsed": true,
        "jupyter": {
          "source_hidden": false,
          "outputs_hidden": false
        },
        "nteract": {
          "transient": {
            "deleting": false
          }
        },
        "gather": {
          "logged": 1627194447954
        }
      }
    },
    {
      "cell_type": "code",
      "source": [
        "import joblib\r\n",
        "best_run, fitted_model = automl_run.get_output()\r\n",
        "print(best_run)\r\n",
        "print(fitted_model)\r\n",
        "joblib.dump(fitted_model, \"fitted_automl_model.joblib\")"
      ],
      "outputs": [
        {
          "output_type": "stream",
          "name": "stderr",
          "text": [
            "WARNING:root:The version of the SDK does not match the version the model was trained on.\n",
            "WARNING:root:The consistency in the result may not be guaranteed.\n",
            "WARNING:root:Package:azureml-automl-core, training version:1.32.0, current version:1.31.0\n",
            "Package:azureml-automl-runtime, training version:1.32.0, current version:1.31.0\n",
            "Package:azureml-core, training version:1.32.0, current version:1.31.0\n",
            "Package:azureml-dataset-runtime, training version:1.32.0, current version:1.31.0\n",
            "Package:azureml-defaults, training version:1.32.0, current version:1.31.0\n",
            "Package:azureml-interpret, training version:1.32.0, current version:1.31.0\n",
            "Package:azureml-mlflow, training version:1.32.0, current version:1.31.0\n",
            "Package:azureml-pipeline-core, training version:1.32.0, current version:1.31.0\n",
            "Package:azureml-telemetry, training version:1.32.0, current version:1.31.0\n",
            "Package:azureml-train-automl-client, training version:1.32.0, current version:1.31.0\n",
            "Package:azureml-train-automl-runtime, training version:1.32.0, current version:1.31.0\n",
            "WARNING:root:Please ensure the version of your local conda dependencies match the version on which your model was trained in order to properly retrieve your model.\n"
          ]
        },
        {
          "output_type": "stream",
          "name": "stdout",
          "text": [
            "Run(Experiment: courtlin-udacity,\n",
            "Id: AutoML_44de51ab-67a6-4580-9a73-07a3bb219c34_29,\n",
            "Type: azureml.scriptrun,\n",
            "Status: Completed)\n",
            "Pipeline(memory=None,\n",
            "         steps=[('datatransformer',\n",
            "                 DataTransformer(enable_dnn=False, enable_feature_sweeping=True, feature_sweeping_config={}, feature_sweeping_timeout=86400, featurization_config=None, force_text_dnn=False, is_cross_validation=True, is_onnx_compatible=False, observer=None, task='classification', working_dir='/mnt/batch/tasks/shared/LS_root/mount...\n",
            "    gpu_training_param_dict={'processing_unit_type': 'cpu'}\n",
            "), random_state=0, reg_alpha=0, reg_lambda=0.5208333333333334, subsample=0.6, tree_method='auto'))], verbose=False))], flatten_transform=None, weights=[0.2857142857142857, 0.2857142857142857, 0.07142857142857142, 0.14285714285714285, 0.07142857142857142, 0.07142857142857142, 0.07142857142857142]))],\n",
            "         verbose=False)\n"
          ]
        },
        {
          "output_type": "execute_result",
          "execution_count": 38,
          "data": {
            "text/plain": "['fitted_automl_model.joblib']"
          },
          "metadata": {}
        }
      ],
      "execution_count": 38,
      "metadata": {
        "collapsed": true,
        "jupyter": {
          "source_hidden": false,
          "outputs_hidden": false
        },
        "nteract": {
          "transient": {
            "deleting": false
          }
        },
        "gather": {
          "logged": 1627194461269
        }
      }
    },
    {
      "cell_type": "code",
      "source": [
        "# Delete compute cluster\r\n",
        "cpu_cluster = ComputeTarget.delete(ws, cpu_cluster_name)"
      ],
      "outputs": [],
      "execution_count": null,
      "metadata": {
        "collapsed": true,
        "jupyter": {
          "source_hidden": false,
          "outputs_hidden": false
        },
        "nteract": {
          "transient": {
            "deleting": false
          }
        }
      }
    }
  ],
  "metadata": {
    "kernel_info": {
      "name": "python3"
    },
    "kernelspec": {
      "name": "python3",
      "language": "python",
      "display_name": "Python 3"
    },
    "language_info": {
      "name": "python",
      "version": "3.6.9",
      "mimetype": "text/x-python",
      "codemirror_mode": {
        "name": "ipython",
        "version": 3
      },
      "pygments_lexer": "ipython3",
      "nbconvert_exporter": "python",
      "file_extension": ".py"
    },
    "nteract": {
      "version": "nteract-front-end@1.0.0"
    },
    "microsoft": {
      "host": {
        "AzureML": {
          "notebookHasBeenCompleted": true
        }
      }
    }
  },
  "nbformat": 4,
  "nbformat_minor": 2
}